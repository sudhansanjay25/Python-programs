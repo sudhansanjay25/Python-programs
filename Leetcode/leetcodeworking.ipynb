{
 "cells": [
  {
   "cell_type": "markdown",
   "metadata": {},
   "source": [
    "Integer to Roman"
   ]
  },
  {
   "cell_type": "code",
   "execution_count": null,
   "metadata": {},
   "outputs": [],
   "source": [
    "def check(a):\n",
    "    num=[1000,900,500,400,100,90,50,40,10,9,5,4,1]\n",
    "    b=\"\"\n",
    "    d=['M','CM','D','CD','C','XC','L','XL','X','IX','V','IV','I']\n",
    "    i=0\n",
    "    while(a>0):\n",
    "        if a//num[i]>0:\n",
    "            c=a//num[i]\n",
    "            a%=num[i]\n",
    "            for j in range(c):\n",
    "                b+=d[i]\n",
    "        i+=1\n",
    "    return b\n",
    "a=int(input())\n",
    "print(check(a))"
   ]
  },
  {
   "cell_type": "markdown",
   "metadata": {},
   "source": [
    "LC1894"
   ]
  },
  {
   "cell_type": "code",
   "execution_count": null,
   "metadata": {},
   "outputs": [],
   "source": [
    "def check(c,k):\n",
    "    if sum(c)<k:\n",
    "        k%=sum(c)\n",
    "    if k==0:\n",
    "        return 0\n",
    "    for i in range(len(c)):\n",
    "        if c[i]>k:\n",
    "            return i\n",
    "        k-=c[i]\n",
    "\n",
    "c=eval(input())\n",
    "k=int(input())\n",
    "print(check(c,k))"
   ]
  },
  {
   "cell_type": "markdown",
   "metadata": {},
   "source": [
    "LC153"
   ]
  },
  {
   "cell_type": "markdown",
   "metadata": {},
   "source": [
    "def check(nums):\n",
    "    nums.sort()\n",
    "    n=len(nums)\n",
    "    l=[]\n",
    "    for i in range(n):\n",
    "        if nums[i]>0:\n",
    "            break\n",
    "        elif i>0 and nums[i]==nums[i-1]:\n",
    "            continue\n",
    "            lo,hi=i+1,n-1\n",
    "            while lo<hi:\n",
    "                summ=nums[i]+nums[lo]+nums[hi]\n",
    "                if summ==0:\n",
    "                    l.append([nums[i],nums[lo],nums[hi]])\n",
    "                    lo+=1\n",
    "                    hi-=1\n",
    "                    while lo<hi and nums[lo]==nums[lo-1]:\n",
    "                        lo+=1\n",
    "                    while lo<hi and nums[hi]==nums[hi+1]:\n",
    "                        hi-=1\n",
    "                elif summ<0:\n",
    "                    lo+=1\n",
    "                else:\n",
    "                    hi-=1\n",
    "    return l\n",
    "nums=[1,-1,0,-4,2,-1]\n",
    "print(check(nums))"
   ]
  },
  {
   "cell_type": "markdown",
   "metadata": {},
   "source": [
    "LARGEST RECTANGLE LC84"
   ]
  },
  {
   "cell_type": "code",
   "execution_count": 3,
   "metadata": {},
   "outputs": [
    {
     "name": "stdout",
     "output_type": "stream",
     "text": [
      "10\n"
     ]
    }
   ],
   "source": [
    "a=[2,1,5,6,2,3]\n",
    "def largestrectangle(heights):\n",
    "    n=len(heights)\n",
    "    stk=[]\n",
    "    m=0\n",
    "    for i,height in enumerate(heights):\n",
    "        start=i\n",
    "        while stk and height<stk[-1][0]:\n",
    "            h,j=stk.pop()\n",
    "            w=i-j\n",
    "            a=h*w\n",
    "            m=max(m,a)\n",
    "            start=j\n",
    "        stk.append((height,start))\n",
    "    while stk:\n",
    "        h,j=stk.pop()\n",
    "        w=n-j\n",
    "        m=max(m,h*w)\n",
    "    return m\n",
    "print(largestrectangle(a))\n"
   ]
  },
  {
   "cell_type": "markdown",
   "metadata": {},
   "source": [
    "LENGTH OF LONGEST COMMON PREFIX LC3043"
   ]
  },
  {
   "cell_type": "code",
   "execution_count": null,
   "metadata": {},
   "outputs": [],
   "source": [
    "def check(arr,brr):    \n",
    "    if len(arr)>len(brr):\n",
    "        arr,brr=brr,arr\n",
    "    s=set()\n",
    "    for i in arr:\n",
    "        while i and i not in s:\n",
    "            s.add(i)\n",
    "            i//=10\n",
    "        \n",
    "    num=0\n",
    "    for i in brr:\n",
    "        while i and i not in s:\n",
    "            i//=10\n",
    "        if i:\n",
    "            num=max(num,len(str(i)))\n",
    "    return num\n",
    "arr=[1,10,100]\n",
    "brr=[1000]"
   ]
  },
  {
   "cell_type": "markdown",
   "metadata": {},
   "source": [
    "ZIGZAG CONVERSION LC6"
   ]
  },
  {
   "cell_type": "code",
   "execution_count": 1,
   "metadata": {},
   "outputs": [
    {
     "ename": "IndexError",
     "evalue": "list index out of range",
     "output_type": "error",
     "traceback": [
      "\u001b[1;31m---------------------------------------------------------------------------\u001b[0m",
      "\u001b[1;31mIndexError\u001b[0m                                Traceback (most recent call last)",
      "Cell \u001b[1;32mIn[1], line 25\u001b[0m\n\u001b[0;32m     23\u001b[0m s\u001b[38;5;241m=\u001b[39m\u001b[38;5;124m\"\u001b[39m\u001b[38;5;124mPAYPALISHIRING\u001b[39m\u001b[38;5;124m\"\u001b[39m\n\u001b[0;32m     24\u001b[0m n\u001b[38;5;241m=\u001b[39m\u001b[38;5;241m3\u001b[39m\n\u001b[1;32m---> 25\u001b[0m \u001b[38;5;28mprint\u001b[39m(\u001b[43mcheck\u001b[49m\u001b[43m(\u001b[49m\u001b[43ms\u001b[49m\u001b[43m,\u001b[49m\u001b[43mn\u001b[49m\u001b[43m)\u001b[49m)\n",
      "Cell \u001b[1;32mIn[1], line 15\u001b[0m, in \u001b[0;36mcheck\u001b[1;34m(s, n)\u001b[0m\n\u001b[0;32m     13\u001b[0m         f\u001b[38;5;241m=\u001b[39m\u001b[38;5;28;01mFalse\u001b[39;00m\n\u001b[0;32m     14\u001b[0m \u001b[38;5;28;01mif\u001b[39;00m \u001b[38;5;129;01mnot\u001b[39;00m f:\n\u001b[1;32m---> 15\u001b[0m     l[count]\u001b[38;5;241m=\u001b[39m\u001b[43ma\u001b[49m\u001b[43m[\u001b[49m\u001b[43mj\u001b[49m\u001b[43m]\u001b[49m\n\u001b[0;32m     16\u001b[0m     count\u001b[38;5;241m-\u001b[39m\u001b[38;5;241m=\u001b[39m\u001b[38;5;241m1\u001b[39m\n\u001b[0;32m     17\u001b[0m     j\u001b[38;5;241m+\u001b[39m\u001b[38;5;241m=\u001b[39m\u001b[38;5;241m1\u001b[39m\n",
      "\u001b[1;31mIndexError\u001b[0m: list index out of range"
     ]
    }
   ],
   "source": [
    "def check(s,n): \n",
    "    a=[x for x in s]   \n",
    "    l=[\"\"]*n\n",
    "    count=0\n",
    "    f=True\n",
    "    j=0\n",
    "    while j<len(a):\n",
    "        if f:\n",
    "            l[count]=a[j]\n",
    "            count+=1\n",
    "            j+=1\n",
    "            if count==n-1:\n",
    "                f=False\n",
    "        if not f:\n",
    "            l[count]=a[j]\n",
    "            count-=1\n",
    "            j+=1\n",
    "            if count == 0:\n",
    "                f=True\n",
    "    return (\"\".join(l))\n",
    "    return l\n",
    "    \n",
    "s=\"PAYPALISHIRING\"\n",
    "n=3\n",
    "print(check(s,n))"
   ]
  },
  {
   "cell_type": "code",
   "execution_count": 2,
   "metadata": {},
   "outputs": [
    {
     "name": "stdout",
     "output_type": "stream",
     "text": [
      "True\n"
     ]
    }
   ],
   "source": [
    "def check(arr,k):    \n",
    "    freq=[0]*k\n",
    "    for x in arr:\n",
    "        freq[x%k]+=1\n",
    "    if freq[0]%2:\n",
    "        return False\n",
    "    return all(freq[i]==freq[k-i] for i in range(1,k//2+1))\n",
    "arr=[1,2,3,4,5,10,9,8,7,6]\n",
    "k=5\n",
    "print(check(arr,k))"
   ]
  },
  {
   "cell_type": "code",
   "execution_count": 4,
   "metadata": {},
   "outputs": [
    {
     "name": "stdout",
     "output_type": "stream",
     "text": [
      "[1, 2, 3, 4]\n"
     ]
    }
   ],
   "source": [
    "def check(arr):    \n",
    "    brr=[x for x in arr]\n",
    "    brr.sort()\n",
    "    c=1\n",
    "    d={}\n",
    "    for i in brr:\n",
    "        d[i]=c\n",
    "        c+=1\n",
    "    arr=[d[x] for x in d]\n",
    "    return arr\n",
    "arr=[40,20,30,10]\n",
    "print(check(arr))"
   ]
  },
  {
   "cell_type": "code",
   "execution_count": 5,
   "metadata": {},
   "outputs": [
    {
     "name": "stdout",
     "output_type": "stream",
     "text": [
      "0\n"
     ]
    }
   ],
   "source": [
    "#LC1189 MAXIMUM NUMBER OF BALLOONS\n",
    "from collections import Counter\n",
    "def check(s):\n",
    "    d = {'b':1,'a':1,'l':2,'o':2,'n':1}\n",
    "    s = s.lower()\n",
    "    count = 0\n",
    "    s_count = Counter(s)\n",
    "    f = True\n",
    "    while f:\n",
    "        for i in d:\n",
    "            if i in s_count and s_count[i] >= d[i]:\n",
    "                s_count[i] -= d[i]\n",
    "            elif s_count[i] < d[i]:\n",
    "                return count\n",
    "        count += 1\n",
    "    return count\n",
    "s = \"leetcode\"\n",
    "print(check(s))"
   ]
  },
  {
   "cell_type": "code",
   "execution_count": 2,
   "metadata": {},
   "outputs": [
    {
     "name": "stdout",
     "output_type": "stream",
     "text": [
      "011\n",
      "0111001\n",
      "011100110110001\n",
      "0\n"
     ]
    }
   ],
   "source": [
    "def bit(x):\n",
    "    if x == '0':\n",
    "        return '1'\n",
    "    return '0'\n",
    "def check(n,k):\n",
    "    s = '0'\n",
    "    if n<2:\n",
    "        return s\n",
    "    for i in range(n):\n",
    "        d = [str(bit(x)) for x in s]\n",
    "        d = d[::-1]\n",
    "        s = s + '1' + ''.join(d)\n",
    "        print(s)\n",
    "    return str(s[k-1])\n",
    "n = 3\n",
    "k = 1\n",
    "print(check(n,k))"
   ]
  },
  {
   "cell_type": "code",
   "execution_count": 6,
   "metadata": {},
   "outputs": [
    {
     "name": "stdout",
     "output_type": "stream",
     "text": [
      "4\n",
      "1018\n"
     ]
    }
   ],
   "source": []
  },
  {
   "cell_type": "code",
   "execution_count": 8,
   "metadata": {},
   "outputs": [
    {
     "ename": "SyntaxError",
     "evalue": "invalid syntax (2467022022.py, line 2)",
     "output_type": "error",
     "traceback": [
      "\u001b[1;36m  Cell \u001b[1;32mIn[8], line 2\u001b[1;36m\u001b[0m\n\u001b[1;33m    print(or l)\u001b[0m\n\u001b[1;37m          ^\u001b[0m\n\u001b[1;31mSyntaxError\u001b[0m\u001b[1;31m:\u001b[0m invalid syntax\n"
     ]
    }
   ],
   "source": [
    "def check(s):\n",
    "    l_max = ''\n",
    "    b = ''\n",
    "    i = 0\n",
    "    start = i\n",
    "    while i < len(s):\n",
    "        if s[i] in b and b[0] not in s[i+1:]:\n",
    "            b += s[i]\n",
    "            \n",
    "\n",
    "s = 'ababa'\n",
    "print(check(s))"
   ]
  },
  {
   "cell_type": "code",
   "execution_count": 1,
   "metadata": {},
   "outputs": [
    {
     "name": "stdout",
     "output_type": "stream",
     "text": [
      "21\n"
     ]
    }
   ],
   "source": [
    "def check(nums):\n",
    "    if len(nums) < 3:\n",
    "        return max(nums)\n",
    "    m = 0\n",
    "    s = 0\n",
    "    i, j = 0,1\n",
    "    while i<len(nums) and j<len(nums):\n",
    "        if i+2< len(nums):\n",
    "            s += nums[i] + nums[i+2]\n",
    "            \n",
    "        if j+2 < len(nums):\n",
    "            m += nums[j] + nums[j+2]\n",
    "            \n",
    "        i += 2\n",
    "        j += 2\n",
    "    return max(m, s)\n",
    "nums = [2,7,9,3,1]\n",
    "print(check(nums))"
   ]
  },
  {
   "cell_type": "code",
   "execution_count": null,
   "metadata": {},
   "outputs": [],
   "source": []
  }
 ],
 "metadata": {
  "kernelspec": {
   "display_name": "Python 3",
   "language": "python",
   "name": "python3"
  },
  "language_info": {
   "codemirror_mode": {
    "name": "ipython",
    "version": 3
   },
   "file_extension": ".py",
   "mimetype": "text/x-python",
   "name": "python",
   "nbconvert_exporter": "python",
   "pygments_lexer": "ipython3",
   "version": "3.12.2"
  }
 },
 "nbformat": 4,
 "nbformat_minor": 2
}
