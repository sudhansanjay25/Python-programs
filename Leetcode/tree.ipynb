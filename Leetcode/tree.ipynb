{
 "cells": [
  {
   "cell_type": "markdown",
   "metadata": {},
   "source": [
    "CREATING A TREE"
   ]
  },
  {
   "cell_type": "code",
   "execution_count": 5,
   "metadata": {},
   "outputs": [],
   "source": [
    "class createnode:\n",
    "    def __init__(self,val):\n",
    "        self.val = val\n",
    "        self.left = self.right = None\n",
    "class tree:\n",
    "    def __init__(self):\n",
    "        self.root = None\n",
    "    def insert(self,root,val):\n",
    "        if not root:\n",
    "            return createnode(val)\n",
    "        if val<root.val:\n",
    "            root.left = self.insert(root.left, val)\n",
    "        else:\n",
    "            root.right = self.insert(root.right, val)\n",
    "        return root\n",
    "    def inorder(self,root):\n",
    "        if root:\n",
    "            self.inorder(root.left)\n",
    "            print(root.val, end = ' ')\n",
    "            self.inorder(root.right)\n",
    "t = tree()\n",
    "n = int(input())\n",
    "l = [int(x) for x in input().split()[:n]]\n",
    "for i in l:\n",
    "    t.root = t.insert(t.root,i)\n",
    "# t.inorder(t.root)"
   ]
  },
  {
   "cell_type": "markdown",
   "metadata": {},
   "source": [
    "DELETING A NODE"
   ]
  },
  {
   "cell_type": "code",
   "execution_count": null,
   "metadata": {},
   "outputs": [
    {
     "data": {
      "text/plain": [
       "3"
      ]
     },
     "execution_count": 6,
     "metadata": {},
     "output_type": "execute_result"
    }
   ],
   "source": [
    "#CASE 1: NO LEAF NODES\n",
    "class createnode:\n",
    "    def __init__(self,val):\n",
    "        self.val = val\n",
    "        self.left = self.right = None\n",
    "class tree:\n",
    "    def __init__(self):\n",
    "        self.root = None\n",
    "    def insert(self,root,val):\n",
    "        if not root:\n",
    "            return createnode(val)\n",
    "        if val<root.val:\n",
    "            root.left = self.insert(root.left, val)\n",
    "        else:\n",
    "            root.right = self.insert(root.right, val)\n",
    "        return root\n",
    "    def inorder(self,root):\n",
    "        if root:\n",
    "            self.inorder(root.left)\n",
    "            print(root.val, end = ' ')\n",
    "            self.inorder(root.right)\n",
    "t = tree()\n",
    "# n = int(input())\n",
    "l = []\n",
    "for i in l:\n",
    "    t.root = t.insert(t.root,i)\n",
    "# t.inorder(t.root)"
   ]
  },
  {
   "cell_type": "code",
   "execution_count": 3,
   "metadata": {},
   "outputs": [
    {
     "name": "stdout",
     "output_type": "stream",
     "text": [
      "2 3 4 5 6 7 8 9 \n",
      "2 4 3 6 8 7 9 5 \n",
      "5 2 3 4 6 7 8 9 "
     ]
    }
   ],
   "source": [
    "class tree:\n",
    "    def __init__(self, val):\n",
    "        self.val = val\n",
    "        self.right = self.left = None\n",
    "class Tree:\n",
    "    def __init__(self):\n",
    "        self.root = None\n",
    "    def insert(self, root, val):\n",
    "        if not root:\n",
    "            return tree(val)\n",
    "        if val<root.val:\n",
    "            root.left = self.insert(root.left,val)\n",
    "        else:\n",
    "            root.right = self.insert(root.right,val)\n",
    "        return root\n",
    "    def inorder(self,root):\n",
    "        if root:\n",
    "            self.inorder(root.left)\n",
    "            print(root.val,end=' ')\n",
    "            self.inorder(root.right)\n",
    "    def preorder(self,root):\n",
    "        if root:\n",
    "            print(root.val,end=' ')\n",
    "            self.inorder(root.left)\n",
    "            self.inorder(root.right)\n",
    "    def postorder(self,root):\n",
    "        if root:\n",
    "            self.postorder(root.left)\n",
    "            self.postorder(root.right)\n",
    "            print(root.val,end=' ')\n",
    "t = Tree()\n",
    "l = [5,3,4,2,9,7,6,8]\n",
    "for i in l:\n",
    "    t.root = t.insert(t.root,i)\n",
    "t.inorder(t.root)\n",
    "print()\n",
    "t.postorder(t.root)\n",
    "print()\n",
    "t.preorder(t.root)"
   ]
  },
  {
   "cell_type": "code",
   "execution_count": null,
   "metadata": {},
   "outputs": [],
   "source": [
    "            5\n",
    "        3       9\n",
    "    2     4   7    8\n",
    "             6\n",
    "           "
   ]
  }
 ],
 "metadata": {
  "kernelspec": {
   "display_name": "Python 3",
   "language": "python",
   "name": "python3"
  },
  "language_info": {
   "codemirror_mode": {
    "name": "ipython",
    "version": 3
   },
   "file_extension": ".py",
   "mimetype": "text/x-python",
   "name": "python",
   "nbconvert_exporter": "python",
   "pygments_lexer": "ipython3",
   "version": "3.12.2"
  }
 },
 "nbformat": 4,
 "nbformat_minor": 2
}
