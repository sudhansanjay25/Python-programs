{
 "cells": [
  {
   "cell_type": "code",
   "execution_count": 4,
   "metadata": {},
   "outputs": [
    {
     "name": "stdout",
     "output_type": "stream",
     "text": [
      "Jeel\n"
     ]
    }
   ],
   "source": [
    "def check(l):\n",
    "    d = [l]\n",
    "    i = 0\n",
    "    while i<len(l) and len(d)!=len(l):\n",
    "        d = sorted(d, key = lambda x:len(x))\n",
    "        m = d.pop()\n",
    "        mid = len(m)//2\n",
    "        le = []\n",
    "        r = []\n",
    "        for j in range(mid):\n",
    "            if m[j]<m[-(j+1)]:\n",
    "                le.append(m[j])\n",
    "                r.append(m[-(1+j)])\n",
    "            else:\n",
    "                if i%2==0:\n",
    "                    return 'Ashish'\n",
    "                else:\n",
    "                    return \"Jeel\"\n",
    "        \n",
    "        if len(le+r)!=len(m):\n",
    "            le.append(m[mid])\n",
    "        r.reverse()\n",
    "        j = 0\n",
    "        while j<mid:\n",
    "            if le[j]>r[j]:\n",
    "                break\n",
    "            j+=1\n",
    "\n",
    "        if sum(le)>sum(r):\n",
    "            break\n",
    "        d.append(le)\n",
    "        d.append(r[::-1])\n",
    "        le = r = []\n",
    "        i+=1\n",
    "    if i%2==0:\n",
    "        return 'Ashish'\n",
    "    else:\n",
    "        return 'Jeel'\n",
    "\n",
    "\n",
    "a = int(input())\n",
    "for _ in range(a):\n",
    "    n = int(input())\n",
    "    l = list(map(int, input().split()[:n]))\n",
    "    if l[0]>l[1]:\n",
    "        print(\"Ashish\")\n",
    "        continue\n",
    "    print(check(l))"
   ]
  },
  {
   "cell_type": "code",
   "execution_count": 5,
   "metadata": {},
   "outputs": [
    {
     "name": "stdout",
     "output_type": "stream",
     "text": [
      "Jeel\n",
      "Jeel\n",
      "Jeel\n"
     ]
    }
   ],
   "source": [
    "import heapq\n",
    "def split(l):\n",
    "    for i in range(1,len(l)):\n",
    "        if l[i-1]<l[i]:\n",
    "            return i\n",
    "    return -1\n",
    "def process(l):\n",
    "    h = []\n",
    "    heapq.heappush(h,(-len(l),l))\n",
    "    i = 0\n",
    "    while h:\n",
    "        _,m = heapq.heappop(h)\n",
    "        if len(m)==1:\n",
    "            continue\n",
    "        s = split(m)\n",
    "        if s==-1:\n",
    "            break\n",
    "        le = m[:s]\n",
    "        r = m[s:]\n",
    "        heapq.heappush(h,(-len(le),le))\n",
    "        heapq.heappush(h, (-len(r),r))\n",
    "        \n",
    "        i+=1\n",
    "    return 'Jeel' if i%2!=0 else \"Ashish\"\n",
    "\n",
    "a = int(input())\n",
    "for _ in range(a):\n",
    "    n = int(input())\n",
    "    l = list(map(int, input().split()[:n]))\n",
    "    print(process(l))\n"
   ]
  },
  {
   "cell_type": "code",
   "execution_count": 6,
   "metadata": {},
   "outputs": [
    {
     "name": "stdout",
     "output_type": "stream",
     "text": [
      "Jeel\n"
     ]
    }
   ],
   "source": [
    "import heapq\n",
    "\n",
    "def split(l):\n",
    "    for i in range(1,len(l)):\n",
    "        if l[i-1]<l[i]:\n",
    "            return i\n",
    "    return -1\n",
    "\n",
    "def process(l):\n",
    "    h = []\n",
    "    heapq.heappush(h, (-len(l),l))\n",
    "    i=0\n",
    "    while h:\n",
    "        _,m = heapq.heappop(h)\n",
    "        if len(m)==1:\n",
    "            continue\n",
    "        s = split(m)\n",
    "        if s==-1:\n",
    "            break\n",
    "        le = m[:s]\n",
    "        r = m[s:]\n",
    "        heapq.heappush(h, (-len(le),le))\n",
    "        heapq.heappush(h, (-len(r),r))\n",
    "        i+=1\n",
    "    return 'Ashish' if i%2==0 else 'Jeel'\n",
    "\n",
    "a = int(input())\n",
    "for _ in range(a):\n",
    "    n = int(input())\n",
    "    l =list(map(int, input().split()[:n]))\n",
    "    print(process(l))"
   ]
  },
  {
   "cell_type": "code",
   "execution_count": 1,
   "metadata": {},
   "outputs": [
    {
     "name": "stdout",
     "output_type": "stream",
     "text": [
      "Jeel\n",
      "Ashish\n",
      "Jeel\n"
     ]
    },
    {
     "ename": "ValueError",
     "evalue": "invalid literal for int() with base 10: ''",
     "output_type": "error",
     "traceback": [
      "\u001b[1;31m---------------------------------------------------------------------------\u001b[0m",
      "\u001b[1;31mValueError\u001b[0m                                Traceback (most recent call last)",
      "Cell \u001b[1;32mIn[1], line 30\u001b[0m\n\u001b[0;32m     28\u001b[0m a \u001b[38;5;241m=\u001b[39m \u001b[38;5;28mint\u001b[39m(\u001b[38;5;28minput\u001b[39m())\n\u001b[0;32m     29\u001b[0m \u001b[38;5;28;01mfor\u001b[39;00m _ \u001b[38;5;129;01min\u001b[39;00m \u001b[38;5;28mrange\u001b[39m(a):\n\u001b[1;32m---> 30\u001b[0m     n \u001b[38;5;241m=\u001b[39m \u001b[38;5;28;43mint\u001b[39;49m\u001b[43m(\u001b[49m\u001b[38;5;28;43minput\u001b[39;49m\u001b[43m(\u001b[49m\u001b[43m)\u001b[49m\u001b[43m)\u001b[49m\n\u001b[0;32m     31\u001b[0m     l \u001b[38;5;241m=\u001b[39m \u001b[38;5;28mlist\u001b[39m(\u001b[38;5;28mmap\u001b[39m(\u001b[38;5;28mint\u001b[39m, \u001b[38;5;28minput\u001b[39m()\u001b[38;5;241m.\u001b[39msplit()[:n]))\n\u001b[0;32m     32\u001b[0m     \u001b[38;5;28mprint\u001b[39m(process(l))\n",
      "\u001b[1;31mValueError\u001b[0m: invalid literal for int() with base 10: ''"
     ]
    }
   ],
   "source": [
    "import heapq\n",
    "def split(l):\n",
    "    m = l[0]\n",
    "    for i in range(1,len(l)):\n",
    "        if m<l[i]:\n",
    "            return i\n",
    "        m = min(m,l[i])\n",
    "    return -1\n",
    "    \n",
    "def process(d):\n",
    "    h = []\n",
    "    i = 0\n",
    "    heapq.heappush(h, (-len(d),d))\n",
    "    while h:\n",
    "        _,m = heapq.heappop(h)\n",
    "        if len(m)==1:\n",
    "            continue\n",
    "        s = split(m)\n",
    "        if s==-1:\n",
    "            break\n",
    "        l = m[:s]\n",
    "        r = m[s:]\n",
    "        heapq.heappush(h, (-len(l),l))\n",
    "        heapq.heappush(h, (-len(r),r))\n",
    "        i+=1\n",
    "    return 'Ashish' if i%2==0 else 'Jeel'\n",
    "    \n",
    "a = int(input())\n",
    "for _ in range(a):\n",
    "    n = int(input())\n",
    "    l = list(map(int, input().split()[:n]))\n",
    "    print(process(l))"
   ]
  },
  {
   "cell_type": "code",
   "execution_count": 2,
   "metadata": {},
   "outputs": [
    {
     "ename": "IndexError",
     "evalue": "list index out of range",
     "output_type": "error",
     "traceback": [
      "\u001b[1;31m---------------------------------------------------------------------------\u001b[0m",
      "\u001b[1;31mIndexError\u001b[0m                                Traceback (most recent call last)",
      "Cell \u001b[1;32mIn[2], line 12\u001b[0m\n\u001b[0;32m     10\u001b[0m right_min[\u001b[38;5;241m-\u001b[39m\u001b[38;5;241m1\u001b[39m] \u001b[38;5;241m=\u001b[39m arr[\u001b[38;5;241m-\u001b[39m\u001b[38;5;241m1\u001b[39m]\n\u001b[0;32m     11\u001b[0m \u001b[38;5;28;01mfor\u001b[39;00m i \u001b[38;5;129;01min\u001b[39;00m \u001b[38;5;28mrange\u001b[39m(n\u001b[38;5;241m-\u001b[39m\u001b[38;5;241m2\u001b[39m, \u001b[38;5;241m-\u001b[39m\u001b[38;5;241m1\u001b[39m, \u001b[38;5;241m-\u001b[39m\u001b[38;5;241m1\u001b[39m):\n\u001b[1;32m---> 12\u001b[0m     right_min[i] \u001b[38;5;241m=\u001b[39m \u001b[38;5;28mmin\u001b[39m(\u001b[43marr\u001b[49m\u001b[43m[\u001b[49m\u001b[43mi\u001b[49m\u001b[43m]\u001b[49m, right_min[i \u001b[38;5;241m+\u001b[39m \u001b[38;5;241m1\u001b[39m])\n\u001b[0;32m     14\u001b[0m valid_splits \u001b[38;5;241m=\u001b[39m \u001b[38;5;241m0\u001b[39m\n\u001b[0;32m     15\u001b[0m max_left \u001b[38;5;241m=\u001b[39m arr[\u001b[38;5;241m0\u001b[39m]\n",
      "\u001b[1;31mIndexError\u001b[0m: list index out of range"
     ]
    }
   ],
   "source": [
    "t = int(input())\n",
    "for _ in range(t):\n",
    "    n = int(input())\n",
    "    arr = [int(i) for i in input().split()]\n",
    "    if n < 2:\n",
    "        print(\"Ashish\")\n",
    "        continue\n",
    "    \n",
    "    right_min = [0] * n\n",
    "    right_min[-1] = arr[-1]\n",
    "    for i in range(n-2, -1, -1):\n",
    "        right_min[i] = min(arr[i], right_min[i + 1])\n",
    "    \n",
    "    valid_splits = 0\n",
    "    max_left = arr[0]\n",
    "    \n",
    "    for i in range(1, n):\n",
    "        max_left = max(max_left, arr[i-1])\n",
    "        if max_left < right_min[i]:\n",
    "            valid_splits += 1\n",
    "    \n",
    "    if valid_splits == 0:\n",
    "        print(\"Ashish\")\n",
    "    else:\n",
    "        print(\"Jeel\" if valid_splits % 2 == 1 else \"Ashish\")"
   ]
  },
  {
   "cell_type": "code",
   "execution_count": null,
   "metadata": {},
   "outputs": [],
   "source": [
    "# L6 PS-14\n",
    "a,b,c = map(int, input().split())\n",
    "d = {}\n",
    "for _ in range(c):\n",
    "    e,f = map(int, input().split())\n",
    "    d[e] = f\n",
    "m = 0\n",
    "l,r = 1,a//b\n",
    "while l<r:\n",
    "    m = (r+l)//2\n",
    "    if m*b==a:\n",
    "        break\n",
    "    elif m*b>a:\n",
    "        h = m - 1\n",
    "    else:\n",
    "        l = m + 1\n",
    "m = (r+l)//2\n",
    "k = m*b\n",
    "for i in d:\n",
    "    if i<=m:\n",
    "        k-=b\n",
    "        k+=d[i]\n",
    "if k>a and k-a>b:\n",
    "    while k>a:\n",
    "        m-=1\n",
    "        k-=b\n",
    "elif a>k:\n",
    "    while k>a:\n",
    "        m-=1\n",
    "        k-=b\n",
    "        \n",
    "print(m)"
   ]
  },
  {
   "cell_type": "code",
   "execution_count": 1,
   "metadata": {},
   "outputs": [
    {
     "name": "stdout",
     "output_type": "stream",
     "text": [
      "[23]\n"
     ]
    }
   ],
   "source": [
    "l = [1,23]\n",
    "l.remove(1)\n",
    "print(l)"
   ]
  },
  {
   "cell_type": "code",
   "execution_count": 1,
   "metadata": {},
   "outputs": [
    {
     "name": "stdout",
     "output_type": "stream",
     "text": [
      "12334\n"
     ]
    }
   ],
   "source": [
    "a = '12334'\n",
    "s = 0\n",
    "for i in a:\n",
    "    b = ord(i)-ord('0')\n",
    "    s = s*10+b \n",
    "print(a)"
   ]
  },
  {
   "cell_type": "code",
   "execution_count": null,
   "metadata": {},
   "outputs": [
    {
     "name": "stdout",
     "output_type": "stream",
     "text": [
      "true\n"
     ]
    }
   ],
   "source": [
    "# L6 PS-16\n",
    "def split(n,a):\n",
    "    m = len(a)//2\n",
    "    b = 0\n",
    "    c = 0\n",
    "    for i in range(len(a)):\n",
    "        if i<m and a[i].isnumeric():\n",
    "            b+=int(a[i])\n",
    "        elif a[i].isnumeric():\n",
    "            c+=int(a[i])\n",
    "    if n=='E':\n",
    "        return c==b\n",
    "    elif n=='B':\n",
    "        if c>=b:\n",
    "            return '0'\n",
    "        else:\n",
    "            d = min(b-c,9)\n",
    "            return str(d)\n",
    "    else:\n",
    "        if c>b:\n",
    "            d = max(c-b,9)\n",
    "            return str(d)\n",
    "        else:\n",
    "            d = max(b-c,9)\n",
    "            return str(d)\n",
    "        \n",
    "a = '1?3?5?6?'\n",
    "m = len(a)//2\n",
    "i = 0\n",
    "while '?' in a:\n",
    "    b = ''\n",
    "    j = 0\n",
    "    while j<len(a):\n",
    "        if a[j]!='?':\n",
    "            b+=a[j]\n",
    "        else:\n",
    "            if i%2==0:\n",
    "                b+=split('G',a)\n",
    "            else:\n",
    "                b+=split('B',a)\n",
    "            j+=1\n",
    "            i+=1\n",
    "            break\n",
    "        j+=1\n",
    "    while j<len(a):\n",
    "        b+=a[j]\n",
    "        j+=1\n",
    "    a = b\n",
    "f = split('E',a)\n",
    "if not(f):\n",
    "    print('true')\n",
    "else:\n",
    "    print(\"false\")"
   ]
  },
  {
   "cell_type": "code",
   "execution_count": null,
   "metadata": {},
   "outputs": [],
   "source": []
  }
 ],
 "metadata": {
  "kernelspec": {
   "display_name": "Python 3",
   "language": "python",
   "name": "python3"
  },
  "language_info": {
   "codemirror_mode": {
    "name": "ipython",
    "version": 3
   },
   "file_extension": ".py",
   "mimetype": "text/x-python",
   "name": "python",
   "nbconvert_exporter": "python",
   "pygments_lexer": "ipython3",
   "version": "3.12.2"
  }
 },
 "nbformat": 4,
 "nbformat_minor": 2
}
