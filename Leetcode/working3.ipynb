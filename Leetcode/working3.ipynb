{
 "cells": [
  {
   "cell_type": "code",
   "execution_count": 2,
   "metadata": {},
   "outputs": [
    {
     "name": "stdout",
     "output_type": "stream",
     "text": [
      "0.0\n",
      "14\n"
     ]
    }
   ],
   "source": [
    "import time\n",
    "n = int(input())\n",
    "if n<2:\n",
    "    print(0)\n",
    "else:\n",
    "    m = n+1\n",
    "    l = []\n",
    "    start = time.time()\n",
    "    for i in range(2,n//2+1):\n",
    "        if n%i==0:\n",
    "            l.append(i)\n",
    "    for i in range(len(l)//2):\n",
    "        s = l[i] + l[-(i+1)]\n",
    "        if m>s:\n",
    "            m = s\n",
    "    end = time.time()\n",
    "    print(end-start)\n",
    "print(m)"
   ]
  },
  {
   "cell_type": "code",
   "execution_count": 14,
   "metadata": {},
   "outputs": [
    {
     "ename": "KeyboardInterrupt",
     "evalue": "",
     "output_type": "error",
     "traceback": [
      "\u001b[1;31m---------------------------------------------------------------------------\u001b[0m",
      "\u001b[1;31mKeyboardInterrupt\u001b[0m                         Traceback (most recent call last)",
      "Cell \u001b[1;32mIn[14], line 8\u001b[0m\n\u001b[0;32m      6\u001b[0m ll, rl \u001b[38;5;241m=\u001b[39m [], []\n\u001b[0;32m      7\u001b[0m \u001b[38;5;28;01mwhile\u001b[39;00m l\u001b[38;5;241m<\u001b[39mr:\n\u001b[1;32m----> 8\u001b[0m     \u001b[38;5;28;01mif\u001b[39;00m \u001b[43mn\u001b[49m\u001b[38;5;241;43m%\u001b[39;49m\u001b[43ml\u001b[49m\u001b[38;5;241m==\u001b[39m\u001b[38;5;241m0\u001b[39m:\n\u001b[0;32m      9\u001b[0m         ll\u001b[38;5;241m.\u001b[39mappend(l)\n\u001b[0;32m     10\u001b[0m     \u001b[38;5;28;01mif\u001b[39;00m n\u001b[38;5;241m%\u001b[39mr\u001b[38;5;241m==\u001b[39m\u001b[38;5;241m0\u001b[39m:\n",
      "\u001b[1;31mKeyboardInterrupt\u001b[0m: "
     ]
    }
   ],
   "source": [
    "n = int(input())\n",
    "if n<2:\n",
    "    print(0)\n",
    "else:\n",
    "    l, r = 2, n//2+1\n",
    "    ll, rl = [], []\n",
    "    while l<r:\n",
    "        if n%l==0:\n",
    "            ll.append(l)\n",
    "        if n%r==0:\n",
    "            rl.append(r)\n",
    "        l+=1\n",
    "        r-=1\n",
    "    a = ll + rl[::-1]\n",
    "    m = a[0]+a[-1]\n",
    "    for i in range(1,len(a)//2):\n",
    "        s = a[i]+a[-(i+1)]\n",
    "        if m>s:\n",
    "            m = s\n",
    "print(m)"
   ]
  },
  {
   "cell_type": "code",
   "execution_count": 17,
   "metadata": {},
   "outputs": [
    {
     "name": "stdout",
     "output_type": "stream",
     "text": [
      "0.04776954650878906\n",
      "154789079\n"
     ]
    }
   ],
   "source": [
    "import math\n",
    "import time\n",
    "def min_sum_of_factors(N):\n",
    "    start = time.time()\n",
    "    min_sum = float('inf')\n",
    "    \n",
    "    for A in range(1, int(math.isqrt(N)) + 1):\n",
    "        if N % A == 0:\n",
    "            B = N // A\n",
    "            min_sum = min(min_sum, A + B)\n",
    "    end = time.time()\n",
    "    print(end-start)\n",
    "    return min_sum\n",
    "\n",
    "# Sample Input\n",
    "N = int(input().strip())\n",
    "# Output the minimum A+B\n",
    "print(min_sum_of_factors(N))\n"
   ]
  },
  {
   "cell_type": "code",
   "execution_count": 1,
   "metadata": {},
   "outputs": [
    {
     "data": {
      "text/plain": [
       "269"
      ]
     },
     "execution_count": 1,
     "metadata": {},
     "output_type": "execute_result"
    }
   ],
   "source": [
    "a = 'Python is an interpreted, high-level, general-purpose programming language that has gained immense popularity over the years due to its simplicity, versatility, and powerful features. Created by Guido van Rossum and first released in 1991, Python was designed with an emphasis on code readability, making it easier for developers to write clean and maintainable code. Its design philosophy emphasizes the importance of readability, with a syntax that allows developers to express concepts in fewer lines of code than languages like C++ or Java. This made Python highly appealing for both beginners and experienced programmers alike. Python’s history traces its roots back to the late 1980s, when van Rossum began working on it at the Centrum Wiskunde & Informatica (CWI) in the Netherlands. He was influenced by various programming languages, including ABC, a teaching language developed at CWI, which contributed to the simplicity and clarity in Python’s design. Additionally, Python was heavily inspired by the C programming language, which influenced its use of indentation for code blocks rather than curly braces or other delimiters, and its general syntax. Python 1.0, released in January 1994, marked the first official release. Since then, Python has gone through several major updates, each introducing new features, improvements, and optimizations. Python 2.0, released in 2000, was a significant milestone in its development. It introduced many enhancements, including garbage collection, list comprehensions, and improved Unicode support. However, Python 2 also marked the beginning of a long period of divergence between Python 2.x and Python 3.x, which would eventually result in the discontinuation of Python 2 in 2020. The release of Python 3.0 in December 2008 was a'\n",
    "b = a.split()\n",
    "len(b)"
   ]
  },
  {
   "cell_type": "code",
   "execution_count": 7,
   "metadata": {},
   "outputs": [
    {
     "name": "stdout",
     "output_type": "stream",
     "text": [
      "  f\n",
      " ed\n",
      "cba\n"
     ]
    }
   ],
   "source": [
    "n = int(input())\n",
    "a = 0\n",
    "for i in range(1,n+1):\n",
    "    a+=i\n",
    "for i in range(1,n+1):\n",
    "    for j in range(n-i,0,-1):\n",
    "        print(end=\" \")\n",
    "    for k in range(1,i+1):\n",
    "        print(chr(96+a),end=\"\")\n",
    "        a-=1\n",
    "    print()"
   ]
  },
  {
   "cell_type": "code",
   "execution_count": 4,
   "metadata": {},
   "outputs": [
    {
     "name": "stdout",
     "output_type": "stream",
     "text": [
      "Accuracy: 1.0\n",
      "Confusion Matrix:\n",
      "[[10  0  0]\n",
      " [ 0  9  0]\n",
      " [ 0  0 11]]\n"
     ]
    },
    {
     "data": {
      "image/png": "[encoded data removed]",
      "text/plain": [
       "<Figure size 1200x800 with 1 Axes>"
      ]
     },
     "metadata": {},
     "output_type": "display_data"
    }
   ],
   "source": [
    "# Import necessary libraries\n",
    "from sklearn.datasets import load_iris\n",
    "from sklearn.model_selection import train_test_split\n",
    "from sklearn.tree import DecisionTreeClassifier, plot_tree\n",
    "from sklearn.metrics import accuracy_score, confusion_matrix\n",
    "import matplotlib.pyplot as plt\n",
    "# Load the Iris dataset\n",
    "data = load_iris()\n",
    "X = data.data\n",
    "y = data.target\n",
    "# Split the dataset into training and testing sets\n",
    "X_train, X_test, y_train, y_test = train_test_split(X, y, test_size=0.2, random_state=42)\n",
    "# Create a Decision Tree model\n",
    "model = DecisionTreeClassifier()\n",
    "# Train the model\n",
    "model.fit(X_train, y_train)\n",
    "# Predict the output for the test dataset\n",
    "y_pred = model.predict(X_test)\n",
    "# Evaluate the model\n",
    "accuracy = accuracy_score(y_test, y_pred)\n",
    "conf_matrix = confusion_matrix(y_test, y_pred)\n",
    "print(f\"Accuracy: {accuracy}\")\n",
    "print(f\"Confusion Matrix:\\n{conf_matrix}\")\n",
    "\n",
    "# Visualize the decision tree\n",
    "plt.figure(figsize=(12, 8))\n",
    "plot_tree(model, filled=True, feature_names=data.feature_names, class_names=data.target_names)\n",
    "plt.show()\n"
   ]
  },
  {
   "cell_type": "code",
   "execution_count": 4,
   "metadata": {},
   "outputs": [
    {
     "ename": "ValueError",
     "evalue": "invalid literal for int() with base 10: '2\\\\'",
     "output_type": "error",
     "traceback": [
      "\u001b[1;31m---------------------------------------------------------------------------\u001b[0m",
      "\u001b[1;31mValueError\u001b[0m                                Traceback (most recent call last)",
      "Cell \u001b[1;32mIn[4], line 1\u001b[0m\n\u001b[1;32m----> 1\u001b[0m n \u001b[38;5;241m=\u001b[39m \u001b[38;5;28;43mint\u001b[39;49m\u001b[43m(\u001b[49m\u001b[38;5;28;43minput\u001b[39;49m\u001b[43m(\u001b[49m\u001b[43m)\u001b[49m\u001b[43m)\u001b[49m\n\u001b[0;32m      2\u001b[0m \u001b[38;5;28;01mdef\u001b[39;00m \u001b[38;5;21minc\u001b[39m(c):\n\u001b[0;32m      3\u001b[0m     \u001b[38;5;28;01mif\u001b[39;00m c\u001b[38;5;241m>\u001b[39mn:\n",
      "\u001b[1;31mValueError\u001b[0m: invalid literal for int() with base 10: '2\\\\'"
     ]
    }
   ],
   "source": [
    "n = int(input())\n",
    "def inc(c):\n",
    "    if c>n:\n",
    "        return\n",
    "    print(c,end=\" \")\n",
    "    c+=1\n",
    "    inc(c)\n",
    "inc(3)"
   ]
  },
  {
   "cell_type": "code",
   "execution_count": 5,
   "metadata": {},
   "outputs": [
    {
     "data": {
      "text/plain": [
       "26"
      ]
     },
     "execution_count": 5,
     "metadata": {},
     "output_type": "execute_result"
    }
   ],
   "source": [
    "701//26\n"
   ]
  },
  {
   "cell_type": "code",
   "execution_count": 2,
   "metadata": {},
   "outputs": [
    {
     "data": {
      "text/plain": [
       "2"
      ]
     },
     "execution_count": 2,
     "metadata": {},
     "output_type": "execute_result"
    }
   ],
   "source": [
    "28%26\n"
   ]
  },
  {
   "cell_type": "code",
   "execution_count": 22,
   "metadata": {},
   "outputs": [
    {
     "name": "stdout",
     "output_type": "stream",
     "text": [
      "AB\n"
     ]
    }
   ],
   "source": [
    "def check(c):\n",
    "    if c<27:\n",
    "        return chr(64+c)\n",
    "    else:\n",
    "        b=''\n",
    "        while c>0:\n",
    "            c-=1\n",
    "            s = c%26\n",
    "\n",
    "            b+=chr(65+s)\n",
    "            \n",
    "            c//=26     \n",
    "        return b[::-1]       \n",
    "print(check(28))"
   ]
  },
  {
   "cell_type": "code",
   "execution_count": 25,
   "metadata": {},
   "outputs": [
    {
     "name": "stdout",
     "output_type": "stream",
     "text": [
      "ZY\n"
     ]
    }
   ],
   "source": [
    "def check(c):\n",
    "    b = ''\n",
    "    while c > 0:\n",
    "        c -= 1  # Adjusting to 0-based index\n",
    "        b = chr(65 + (c % 26)) + b\n",
    "        c //= 26  \n",
    "    return b\n",
    "\n",
    "print(check(701))  # Expected Output: FXSHRXW\n"
   ]
  },
  {
   "cell_type": "code",
   "execution_count": null,
   "metadata": {},
   "outputs": [],
   "source": [
    " 1 4 4 4 6 6 6 \n",
    "1 2 2 1 1 6 7"
   ]
  },
  {
   "cell_type": "code",
   "execution_count": 4,
   "metadata": {},
   "outputs": [
    {
     "name": "stdout",
     "output_type": "stream",
     "text": [
      "Jeel\n"
     ]
    }
   ],
   "source": [
    "def check(s,n):\n",
    "    if n<1:\n",
    "        return False\n",
    "    if sorted(s) != s:\n",
    "        return False\n",
    "    m = n//2\n",
    "    l = s[:m]\n",
    "    r = s[m:]\n",
    "    if len(l)>len(r):\n",
    "        check(l,m)\n",
    "    elif len(l)<len(r):\n",
    "        check(r,n-m)\n",
    "    return True\n",
    "\n",
    "a = int(input())\n",
    "for i in range(a):\n",
    "    n = int(input())\n",
    "    l = list(map(int,input().split()[:n]))\n",
    "    if check(l,n):\n",
    "        print(\"Jeel\")\n",
    "    else:\n",
    "        print(\"Ashish\")"
   ]
  },
  {
   "cell_type": "code",
   "execution_count": null,
   "metadata": {},
   "outputs": [
    {
     "name": "stdout",
     "output_type": "stream",
     "text": [
      "[0, 2, 3]\n",
      "[0]\n"
     ]
    }
   ],
   "source": [
    "s = eval(input())\n",
    "l = []\n",
    "r = []\n",
    "for i in range(len(s)):\n",
    "    if all(s[i]>x for x in s[i+1:]):\n",
    "        l.append(i)\n",
    "    if all(s[i]>x for x in s[:i]):\n",
    "        r.append(i)\n",
    "\n",
    "print(l)\n",
    "print(r)"
   ]
  },
  {
   "cell_type": "code",
   "execution_count": 14,
   "metadata": {},
   "outputs": [
    {
     "name": "stdout",
     "output_type": "stream",
     "text": [
      "   * \n",
      "  * * \n",
      " *   * \n",
      "*     * \n",
      " *   * \n",
      "  * * \n",
      "   * \n"
     ]
    }
   ],
   "source": [
    "n = int(input())\n",
    "for i in range(1,n+1):\n",
    "    for j in range(1,n-i+1):\n",
    "        print(\" \" ,end=\"\")\n",
    "    for j in range(1,i+1):\n",
    "        if j==1 or j==i:\n",
    "            print(\"*\",end=\" \")\n",
    "        else:\n",
    "            print(end=\"  \")\n",
    "    print()\n",
    "for i in range(n-1,0,-1):\n",
    "    for j in range(1,n-i+1):\n",
    "        print(end=\" \")\n",
    "    for j in range(1,i+1):\n",
    "        if j==1 or j==i:\n",
    "            print(end=\"* \")\n",
    "        else:\n",
    "            print(\" \",end=\" \")\n",
    "    print()        "
   ]
  },
  {
   "cell_type": "code",
   "execution_count": null,
   "metadata": {},
   "outputs": [
    {
     "name": "stdout",
     "output_type": "stream",
     "text": [
      "elloh\n",
      "ohell\n",
      "elloh\n",
      "ohell\n"
     ]
    }
   ],
   "source": [
    "n = int(input())\n",
    "for j in range(1,n+1):\n",
    "    a = input()\n",
    "    b = int(input())\n",
    "    if j%2==1:\n",
    "        print(a[b:],end=\"\")\n",
    "        print(a[:b])\n",
    "        \n",
    "    else:\n",
    "        for i in range(len(a)-b,len(a)):\n",
    "            print(a[i],end=\"\")\n",
    "        for i in range(len(a)-b):\n",
    "            print(a[i],end=\"\")\n",
    "        print()"
   ]
  },
  {
   "cell_type": "code",
   "execution_count": 4,
   "metadata": {},
   "outputs": [
    {
     "name": "stdout",
     "output_type": "stream",
     "text": [
      "True\n"
     ]
    }
   ],
   "source": [
    "l={'hello':0}\n",
    "print(\"hello\" in l)"
   ]
  },
  {
   "cell_type": "code",
   "execution_count": null,
   "metadata": {},
   "outputs": [
    {
     "name": "stdout",
     "output_type": "stream",
     "text": [
      "HO2\n"
     ]
    }
   ],
   "source": [
    "a = input()\n",
    "d = {}\n",
    "n = len(a)\n",
    "i = 0\n",
    "mul = 1\n",
    "while i<len(a):\n",
    "    if a[i]=='(':\n",
    "        for j in range(i,n):\n",
    "            if a[j]==')':\n",
    "                num1 = ''\n",
    "                k = j+1\n",
    "                while k<n and a[k].isdigit():\n",
    "                    num1+=a[k]\n",
    "                    k+=1\n",
    "                mul = int(num1)\n",
    "                i+=1\n",
    "                break\n",
    " \n",
    "    if a[i].isalpha():\n",
    "        b=''\n",
    "        while i<n and a[i].isalpha():\n",
    "            b+=a[i]\n",
    "            i+=1\n",
    "        num = ''\n",
    "        while i<n and a[i].isnumeric():\n",
    "            num+=a[i]\n",
    "            i+=1\n",
    "        if num:\n",
    "            num = int(num)*mul\n",
    "        else:\n",
    "            num = 1\n",
    "        if b not in d:\n",
    "            d[b]=num\n",
    "        else:\n",
    "            d[b]+=num\n",
    "    else:\n",
    "        i+=1\n",
    "d = sorted(d.items())\n",
    "res = ''.join(f\"{key}{value if value > 1 else ''}\" for key, value in d)\n",
    "print(res)"
   ]
  },
  {
   "cell_type": "code",
   "execution_count": null,
   "metadata": {},
   "outputs": [
    {
     "name": "stdout",
     "output_type": "stream",
     "text": [
      "HO2\n",
      "2HMgO\n",
      "2534KN4O8S4\n",
      "4HHe2Mg3O2\n",
      "243HO5\n",
      "2HHe3O2\n"
     ]
    }
   ],
   "source": []
  },
  {
   "cell_type": "code",
   "execution_count": 1,
   "metadata": {},
   "outputs": [
    {
     "name": "stdout",
     "output_type": "stream",
     "text": [
      "Value of N: 6\n",
      "66666666666\n",
      "65555555556\n",
      "65444444456\n",
      "65433333456\n",
      "65432223456\n",
      "65432123456\n"
     ]
    }
   ],
   "source": [
    "n = int(input())\n",
    "print(\"Value of N:\",n)\n",
    "for i in range(1,n+1):\n",
    "    if i==1:\n",
    "        for j in range(2*n-1):\n",
    "            print(n-i+1,end=\"\")\n",
    "        print()\n",
    "    else:\n",
    "        l = []\n",
    "        j = n \n",
    "        while j>n-i+1:\n",
    "            l.append(j)\n",
    "            j-=1\n",
    "        for _ in range(1,j+1):\n",
    "            l.append(j)\n",
    "        print(*l,sep=\"\",end=\"\")\n",
    "        l.reverse()\n",
    "        print(*l[1:],sep=\"\")\n",
    "    "
   ]
  },
  {
   "cell_type": "code",
   "execution_count": 2,
   "metadata": {},
   "outputs": [
    {
     "ename": "ValueError",
     "evalue": "invalid literal for int() with base 10: ''",
     "output_type": "error",
     "traceback": [
      "\u001b[1;31m---------------------------------------------------------------------------\u001b[0m",
      "\u001b[1;31mValueError\u001b[0m                                Traceback (most recent call last)",
      "Cell \u001b[1;32mIn[2], line 3\u001b[0m\n\u001b[0;32m      1\u001b[0m n \u001b[38;5;241m=\u001b[39m \u001b[38;5;28mint\u001b[39m(\u001b[38;5;28minput\u001b[39m())\n\u001b[0;32m      2\u001b[0m s \u001b[38;5;241m=\u001b[39m \u001b[38;5;28mlist\u001b[39m(\u001b[38;5;28mmap\u001b[39m(\u001b[38;5;28mint\u001b[39m,\u001b[38;5;28minput\u001b[39m()\u001b[38;5;241m.\u001b[39msplit()[:n]))\n\u001b[1;32m----> 3\u001b[0m a \u001b[38;5;241m=\u001b[39m \u001b[38;5;28;43mint\u001b[39;49m\u001b[43m(\u001b[49m\u001b[38;5;28;43minput\u001b[39;49m\u001b[43m(\u001b[49m\u001b[43m)\u001b[49m\u001b[43m)\u001b[49m\n\u001b[0;32m      4\u001b[0m d \u001b[38;5;241m=\u001b[39m []\n\u001b[0;32m      5\u001b[0m l, r \u001b[38;5;241m=\u001b[39m \u001b[38;5;241m0\u001b[39m, n\u001b[38;5;241m-\u001b[39m\u001b[38;5;241m1\u001b[39m\n",
      "\u001b[1;31mValueError\u001b[0m: invalid literal for int() with base 10: ''"
     ]
    }
   ],
   "source": [
    "n = int(input())\n",
    "s = list(map(int,input().split()[:n]))\n",
    "a = int(input())\n",
    "d = []\n",
    "l, r = 0, n-1\n",
    "while l<r:\n",
    "    m = l+(r-l)//2\n",
    "    if s[l]==a:\n",
    "        d.append(l)\n",
    "    elif s[r]==a:\n",
    "        d.append(r)\n",
    "    elif s[m]==a:\n",
    "        d.append(m)\n",
    "        if s[m-1]<a:\n",
    "            l = m\n",
    "        else:\n",
    "            r = m\n",
    "    elif s[m]<a:\n",
    "        l = m+1\n",
    "    else:\n",
    "        r = m-1\n",
    "if d:\n",
    "    print(d[0],d[-1])\n",
    "else:\n",
    "    print(-1,-1)"
   ]
  },
  {
   "cell_type": "code",
   "execution_count": 1,
   "metadata": {},
   "outputs": [
    {
     "name": "stdout",
     "output_type": "stream",
     "text": [
      "K4ONSO6\n"
     ]
    }
   ],
   "source": [
    "a = input()\n",
    "d = {}\n",
    "n = len(a)\n",
    "i = 0\n",
    "mul = 1\n",
    "while i<len(a):\n",
    "    if a[i]=='(':\n",
    "        for j in range(i,n):\n",
    "            if a[j]==')':\n",
    "                num1 = ''\n",
    "                k = j+1\n",
    "                while k<n and a[k].isdigit():\n",
    "                    num1+=a[k]\n",
    "                    k+=1\n",
    "                mul = int(num1)\n",
    "                i+=1\n",
    "                break\n",
    " \n",
    "    if a[i].isalpha():\n",
    "        b=''\n",
    "        while i<n and a[i].isalpha():\n",
    "            b+=a[i]\n",
    "            i+=1\n",
    "        num = ''\n",
    "        while i<n and a[i].isnumeric():\n",
    "            num+=a[i]\n",
    "            i+=1\n",
    "        if num:\n",
    "            num = int(num)*mul\n",
    "        else:\n",
    "            num = 1\n",
    "        if b not in d:\n",
    "            d[b]=num\n",
    "        else:\n",
    "            d[b]+=num\n",
    "    else:\n",
    "        i+=1\n",
    "d = sorted(d.items())\n",
    "res = ''.join(f\"{key}{value if value > 1 else ''}\" for key, value in d)\n",
    "print(res)"
   ]
  },
  {
   "cell_type": "code",
   "execution_count": 3,
   "metadata": {},
   "outputs": [
    {
     "name": "stdout",
     "output_type": "stream",
     "text": [
      "K4N2O14S4\n"
     ]
    }
   ],
   "source": [
    "s = 'K4(ON(SO3)2)2'\n",
    "d = {}\n",
    "i = 0\n",
    "stk = []\n",
    "n = len(s)\n",
    "while i<n:\n",
    "    if s[i]=='(':\n",
    "        if d:\n",
    "            stk.append(d)\n",
    "            d = {}\n",
    "        i+=1\n",
    "    elif s[i]==')':\n",
    "        i+=1\n",
    "        mul = ''\n",
    "        while i<n and s[i].isdigit():\n",
    "            mul+=s[i]\n",
    "            i+=1\n",
    "        if mul:\n",
    "            mul = int(mul)\n",
    "        else:\n",
    "            mul = 1\n",
    "        t = stk.pop()\n",
    "        for j in d:\n",
    "            if j in t:\n",
    "                t[j]+=(d[j]*mul)\n",
    "            else:\n",
    "                t[j] = (d[j]*mul)\n",
    "        d = t\n",
    "    else:\n",
    "        b = s[i]\n",
    "        i+=1\n",
    "        if i<n and s[i].islower():\n",
    "            b+=s[i]\n",
    "            i+=1\n",
    "        num = ''\n",
    "        while i<n and s[i].isdigit():\n",
    "            num+=s[i]\n",
    "            i+=1\n",
    "        if num:\n",
    "            num = int(num)\n",
    "        else:\n",
    "            num = 1\n",
    "        if b not in d:\n",
    "            d[b]=num\n",
    "        else:\n",
    "            d[b]+=num\n",
    "\n",
    "        \n",
    "\n",
    "\n",
    "d = sorted(d.items())\n",
    "res = ''.join(f\"{key}{value if value > 1 else ''}\" for key, value in d)\n",
    "print(res)"
   ]
  },
  {
   "cell_type": "code",
   "execution_count": 2,
   "metadata": {},
   "outputs": [
    {
     "name": "stdout",
     "output_type": "stream",
     "text": [
      "helellllologogegetet t g gegetetgtgegete\n"
     ]
    }
   ],
   "source": [
    "s = 'HelloGET gEtGet'\n",
    "s = s.lower()\n",
    "t1 = ''\n",
    "count = 0\n",
    "for i in range(len(s)-2):\n",
    "    b = s[i:i+3]\n",
    "    if b=='get':\n",
    "        count+=1\n",
    "if count>1:\n",
    "    count1 = 0\n",
    "    i = 0\n",
    "    while i<len(s)-2:\n",
    "        b = s[i:i+3]\n",
    "        if b=='get':\n",
    "            if count1==2:\n",
    "                count1+=1\n",
    "                i+=3\n",
    "                continue\n",
    "        t1+=b\n",
    "        i+=1\n",
    "    if i<len(s):\n",
    "        t1+=s[i]\n",
    "print(t1)"
   ]
  },
  {
   "cell_type": "code",
   "execution_count": 8,
   "metadata": {},
   "outputs": [
    {
     "name": "stdout",
     "output_type": "stream",
     "text": [
      "196\n"
     ]
    }
   ],
   "source": [
    "s = '1111'\n",
    "a = 0\n",
    "for i in s:\n",
    "    a+=ord(i)\n",
    "print(a)"
   ]
  },
  {
   "cell_type": "code",
   "execution_count": 9,
   "metadata": {},
   "outputs": [
    {
     "name": "stdout",
     "output_type": "stream",
     "text": [
      "15\n"
     ]
    }
   ],
   "source": [
    "print(int('1111',2))"
   ]
  },
  {
   "cell_type": "code",
   "execution_count": null,
   "metadata": {},
   "outputs": [
    {
     "name": "stdout",
     "output_type": "stream",
     "text": [
      "63\n",
      "70\n",
      "783\n",
      "783\n"
     ]
    }
   ],
   "source": [
    "def s1(s,a,b):\n",
    "    c = 0\n",
    "    for i in s:\n",
    "        if i.isupper():\n",
    "            c+=1\n",
    "    s = s.lower()\n",
    "    t1 = ''\n",
    "    count = 0\n",
    "    for i in range(len(s)-2):\n",
    "        b = s[i:i+3]\n",
    "        if b=='get':\n",
    "            count+=1\n",
    "    if count>1:\n",
    "        count1 = 1\n",
    "        i = 0\n",
    "        while i<len(s)-2:\n",
    "            b = s[i:i+3]\n",
    "            if b=='get':\n",
    "                if count1==2:\n",
    "                    count1+=1\n",
    "                    i+=3\n",
    "                    continue\n",
    "                else:\n",
    "                    count1+=1\n",
    "                    t1+=b\n",
    "                    i+=3\n",
    "            else:\n",
    "                t1+=s[i]\n",
    "                i+=1\n",
    "        if i<len(s):\n",
    "            while i<len(s):\n",
    "                t1+=s[i]\n",
    "                i+=1\n",
    "    else:\n",
    "        t1+=s\n",
    "    c+=len(t1)\n",
    "    le = len(t1)\n",
    "    f = True\n",
    "    for i in range(2,int(le**0.5)+1):\n",
    "        if le%i==0:\n",
    "            f = False\n",
    "            break\n",
    "    if f:\n",
    "        c+=33\n",
    "    else:\n",
    "        c+=54\n",
    "    t2 = ''\n",
    "    if t1:\n",
    "        for i in t1:\n",
    "            if not i.isnumeric():\n",
    "                t2+=i\n",
    "    c+=len(t2)\n",
    "    if t1 in a.lower():\n",
    "        c+=13\n",
    "    if t1 in b.lower():\n",
    "        c+=17\n",
    "    if not t1:\n",
    "        c+=1\n",
    "    return c\n",
    "    \n",
    "\n",
    "def s2(s):\n",
    "    c = 0\n",
    "    def check(s):\n",
    "        stk = []\n",
    "        d = {'}':'{',']':'[',')':'('}\n",
    "        for i in s:\n",
    "            if i in '{[(':\n",
    "                stk.append(i)\n",
    "            elif i in ')}]':\n",
    "                if not stk:\n",
    "                    return False\n",
    "                else:\n",
    "                    p = stk.pop()\n",
    "                    if p!=d[i]:\n",
    "                        return False\n",
    "        if stk:\n",
    "            return False\n",
    "        return True\n",
    "    t11 = ''\n",
    "    if check(s):\n",
    "        for i in s:\n",
    "            if i not in '(){}[]':\n",
    "                t11+=i\n",
    "    else:\n",
    "        t11+=s\n",
    "    c+=len(t11)\n",
    "    l = t11.split(':')\n",
    "    for i in l:\n",
    "        if i and i[0]=='W':\n",
    "            c+=1\n",
    "    t12 = ''\n",
    "    for i in t11:\n",
    "        if i not in 'aeiouAEIOU':\n",
    "            t12+=i\n",
    "    c+=len(t12)\n",
    "    return c\n",
    "        \n",
    "\n",
    "def s3(s):\n",
    "    c = 0\n",
    "    t21 = ''\n",
    "    for i in s:\n",
    "        if i in \"aieou\":\n",
    "            t21+=i.upper()\n",
    "        else:\n",
    "            t21+=i\n",
    "    t22 = ''\n",
    "    for i in t21:\n",
    "        c+=ord(i)\n",
    "        if i in '10':\n",
    "            t22+=i\n",
    "    if t22:\n",
    "        c+=int(t22,2)\n",
    "    return c\n",
    "\n",
    "    \n",
    "             \n",
    "        \n",
    "\n",
    "\n",
    "a = input()\n",
    "b = input()\n",
    "c = input()\n",
    "tot = 0\n",
    "tot += s1(a,b,c)\n",
    "tot += s2(b)\n",
    "tot += s3(c)\n",
    "print(tot)"
   ]
  },
  {
   "cell_type": "code",
   "execution_count": 13,
   "metadata": {},
   "outputs": [
    {
     "data": {
      "text/plain": [
       "2.0"
      ]
     },
     "execution_count": 13,
     "metadata": {},
     "output_type": "execute_result"
    }
   ],
   "source": [
    "16**(1/4)"
   ]
  },
  {
   "cell_type": "code",
   "execution_count": 3,
   "metadata": {},
   "outputs": [
    {
     "data": {
      "text/plain": [
       "0"
      ]
     },
     "execution_count": 3,
     "metadata": {},
     "output_type": "execute_result"
    }
   ],
   "source": [
    "54%9"
   ]
  },
  {
   "cell_type": "code",
   "execution_count": 5,
   "metadata": {},
   "outputs": [
    {
     "name": "stdout",
     "output_type": "stream",
     "text": [
      "Your SGPA is 8.78\n"
     ]
    }
   ],
   "source": [
    "d = {\"ADSLAB\":2, 'ADS':3, 'OSLAB':1,'OS':3,'OOPSLAB':1,'OOPS':3,'PDS':4,'EE':1,'MATHS':4,'DBT':4,'CEP':1}\n",
    "m = {'O':10,'A+':9,'A':8,'B+':7,'B':6,'C':5}\n",
    "s = 0\n",
    "for i in d:\n",
    "    a = input()\n",
    "    s+=(m[a]*d[i])\n",
    "s/=27\n",
    "print(f\"Your SGPA is {s:.2f}\")"
   ]
  },
  {
   "cell_type": "code",
   "execution_count": 6,
   "metadata": {},
   "outputs": [
    {
     "data": {
      "text/plain": [
       "8.453333333333333"
      ]
     },
     "execution_count": 6,
     "metadata": {},
     "output_type": "execute_result"
    }
   ],
   "source": [
    "(8.30+8.28+8.78)/3"
   ]
  },
  {
   "cell_type": "code",
   "execution_count": 1,
   "metadata": {},
   "outputs": [
    {
     "name": "stdout",
     "output_type": "stream",
     "text": [
      "Original Dataset:\n",
      "   Department Employee  Salary\n",
      "0         HR    Alice   50000\n",
      "1         IT      Bob   54000\n",
      "2         HR  Charlie   49000\n",
      "3         IT    David   62000\n",
      "4    Finance      Eva   58000\n",
      "\n",
      "Mean Salary by Department:\n",
      " Department\n",
      "Finance    58000.0\n",
      "HR         49500.0\n",
      "IT         58000.0\n",
      "Name: Salary, dtype: float64\n"
     ]
    }
   ],
   "source": [
    "import pandas as pd\n",
    "\n",
    "# Create a dataset\n",
    "data = {\n",
    "    'Department': ['HR', 'IT', 'HR', 'IT', 'Finance'],\n",
    "    'Employee': ['Alice', 'Bob', 'Charlie', 'David', 'Eva'],\n",
    "    'Salary': [50000, 54000, 49000, 62000, 58000]\n",
    "}\n",
    "df = pd.DataFrame(data)\n",
    "print(\"Original Dataset:\\n\", df)\n",
    "\n",
    "# Group by Department and calculate mean salary\n",
    "grouped_df = df.groupby('Department')['Salary'].mean()\n",
    "print(\"\\nMean Salary by Department:\\n\", grouped_df)\n"
   ]
  },
  {
   "cell_type": "code",
   "execution_count": 3,
   "metadata": {},
   "outputs": [
    {
     "name": "stdout",
     "output_type": "stream",
     "text": [
      "Dataset with Missing Values:\n",
      "      A    B   C\n",
      "0  1.0  5.0  10\n",
      "1  2.0  NaN  11\n",
      "2  NaN  NaN  12\n",
      "3  4.0  8.0  13\n",
      "\n",
      "Fill missing values with 0:\n",
      "      A    B   C\n",
      "0  1.0  5.0  10\n",
      "1  2.0  0.0  11\n",
      "2  0.0  0.0  12\n",
      "3  4.0  8.0  13\n",
      "\n",
      "Drop rows with missing values:\n",
      "      A    B   C\n",
      "0  1.0  5.0  10\n",
      "3  4.0  8.0  13\n"
     ]
    }
   ],
   "source": [
    "import pandas as pd\n",
    "import numpy as np\n",
    "# Create a dataset with missing values\n",
    "data = {\n",
    "    'A': [1, 2, np.nan, 4],\n",
    "    'B': [5, np.nan, np.nan, 8],\n",
    "    'C': [10, 11, 12, 13]\n",
    "}\n",
    "df = pd.DataFrame(data)\n",
    "print(\"Dataset with Missing Values:\\n\", df)\n",
    "\n",
    "# Handle missing values\n",
    "print(\"\\nFill missing values with 0:\\n\", df.fillna(0))  # Fill with 0\n",
    "print(\"\\nDrop rows with missing values:\\n\", df.dropna())  # Drop rows with NaN\n"
   ]
  },
  {
   "cell_type": "code",
   "execution_count": null,
   "metadata": {},
   "outputs": [
    {
     "name": "stdout",
     "output_type": "stream",
     "text": [
      "N-o-H-t-Y-p\n"
     ]
    }
   ],
   "source": [
    "def transform(s):\n",
    "    return \"-\".join([char.upper() if i%2==0 else char.lower() for i, char in enumerate(s[::-1])])\n",
    "a = 'Python'\n",
    "print(transform(a))"
   ]
  },
  {
   "cell_type": "code",
   "execution_count": 2,
   "metadata": {},
   "outputs": [
    {
     "data": {
      "text/plain": [
       "1"
      ]
     },
     "execution_count": 2,
     "metadata": {},
     "output_type": "execute_result"
    }
   ],
   "source": [
    "from collections import deque\n",
    "q = deque([1,2,3,4])\n",
    "q.popleft()"
   ]
  },
  {
   "cell_type": "code",
   "execution_count": null,
   "metadata": {},
   "outputs": [],
   "source": [
    "def f(n):\n",
    "    if n==0:\n",
    "        return 0\n",
    "    elif n==1:\n",
    "        return 1\n",
    "    else:\n",
    "        return f(n-1)+f(n-2)\n",
    "print(f(100))"
   ]
  },
  {
   "cell_type": "code",
   "execution_count": 7,
   "metadata": {},
   "outputs": [
    {
     "name": "stdout",
     "output_type": "stream",
     "text": [
      "218922995834555169026\n"
     ]
    }
   ],
   "source": [
    "l = [0,1]\n",
    "for i in range(2,100):\n",
    "    l.append(l[i-1]+l[i-2])\n",
    "print(l[-1])"
   ]
  },
  {
   "cell_type": "code",
   "execution_count": 3,
   "metadata": {},
   "outputs": [
    {
     "name": "stdout",
     "output_type": "stream",
     "text": [
      "5\n"
     ]
    }
   ],
   "source": [
    "nums = [4,2,1,2,1,1]\n",
    "x = 0\n",
    "for i in nums:\n",
    "    x ^= i\n",
    "print(x)"
   ]
  },
  {
   "cell_type": "code",
   "execution_count": 1,
   "metadata": {},
   "outputs": [
    {
     "name": "stdout",
     "output_type": "stream",
     "text": [
      "Synthetic Dataset:\n",
      " [[52 93 15 72 61]\n",
      " [21 83 87 75 75]\n",
      " [88 24  3 22 53]\n",
      " [ 2 88 30 38  2]\n",
      " [64 60 21 33 76]\n",
      " [58 22 89 49 91]\n",
      " [59 42 92 60 80]\n",
      " [15 62 62 47 62]\n",
      " [51 55 64  3 51]\n",
      " [ 7 21 73 39 18]]\n",
      "\n",
      "First 3 rows:\n",
      " [[52 93 15 72 61]\n",
      " [21 83 87 75 75]\n",
      " [88 24  3 22 53]]\n",
      "\n",
      "Mean of each column:\n",
      " [41.7 55.  53.6 43.8 56.9]\n",
      "\n",
      "Filter rows where the first column > 50:\n",
      " [[52 93 15 72 61]\n",
      " [88 24  3 22 53]\n",
      " [64 60 21 33 76]\n",
      " [58 22 89 49 91]\n",
      " [59 42 92 60 80]\n",
      " [51 55 64  3 51]]\n"
     ]
    }
   ],
   "source": [
    "# Import NumPy\n",
    "import numpy as np\n",
    "\n",
    "# Create a synthetic dataset\n",
    "np.random.seed(42)  # For reproducibility\n",
    "data = np.random.randint(1, 100, size=(10, 5))  # 10 rows, 5 columns\n",
    "print(\"Synthetic Dataset:\\n\", data)\n",
    "# Basic operations\n",
    "print(\"\\nFirst 3 rows:\\n\", data[:3])  # Slicing\n",
    "print(\"\\nMean of each column:\\n\", np.mean(data, axis=0))  # Column-wise mean\n",
    "print(\"\\nFilter rows where the first column > 50:\\n\", data[data[:, 0] > 50])  # Filtering\n"
   ]
  },
  {
   "cell_type": "code",
   "execution_count": null,
   "metadata": {},
   "outputs": [],
   "source": []
  }
 ],
 "metadata": {
  "kernelspec": {
   "display_name": "Python 3",
   "language": "python",
   "name": "python3"
  },
  "language_info": {
   "codemirror_mode": {
    "name": "ipython",
    "version": 3
   },
   "file_extension": ".py",
   "mimetype": "text/x-python",
   "name": "python",
   "nbconvert_exporter": "python",
   "pygments_lexer": "ipython3",
   "version": "3.12.2"
  }
 },
 "nbformat": 4,
 "nbformat_minor": 2
}
