{
 "cells": [
  {
   "cell_type": "markdown",
   "metadata": {},
   "source": [
    "CLASSES AND OBJECTS"
   ]
  },
  {
   "cell_type": "code",
   "execution_count": 3,
   "metadata": {},
   "outputs": [
    {
     "name": "stdout",
     "output_type": "stream",
     "text": [
      "sudhan.sanjay@company.com\n",
      "test.user@company.com\n",
      "Sudhan Sanjay\n"
     ]
    }
   ],
   "source": [
    "class employee:\n",
    "    def __init__(self, first, last, pay):\n",
    "        self.first = first\n",
    "        self.last = last\n",
    "        self.pay = pay\n",
    "        self.email = first.lower() + '.' + last.lower() + '@company.com'\n",
    "    def fullname(self):\n",
    "        return '{} {}'.format(self.first, self.last)\n",
    "emp1 = employee('Sudhan', 'Sanjay', 50000)\n",
    "emp2 = employee('Test', 'User', 60000)\n",
    "print(emp1.email)\n",
    "print(emp2.email)\n",
    "print(emp1.fullname())"
   ]
  },
  {
   "cell_type": "markdown",
   "metadata": {},
   "source": [
    "CLASSES AND VARIBLES"
   ]
  },
  {
   "cell_type": "code",
   "execution_count": 10,
   "metadata": {},
   "outputs": [
    {
     "name": "stdout",
     "output_type": "stream",
     "text": [
      "0\n",
      "50000\n",
      "52000\n",
      "2\n"
     ]
    }
   ],
   "source": [
    "class employee:\n",
    "    num_of_emps = 0\n",
    "    raise_amount = 1.04\n",
    "    def __init__(self, first, last, pay):\n",
    "        self.first = first\n",
    "        self.last = last\n",
    "        self.pay = pay\n",
    "        self.email = first.lower() + '.' + last.lower() + '@company.com'\n",
    "        employee.num_of_emps += 1\n",
    "    def fullname(self):\n",
    "        return '{} {}'.format(self.first, self.last)\n",
    "    def raise_pay(self):\n",
    "        self.pay = int(self.pay * self.raise_amount)\n",
    "    print(employee.num_of_emps)\n",
    "emp1 = employee('Sudhan', 'Sanjay', 50000)\n",
    "emp2 = employee('Test', 'User', 60000)\n",
    "print(emp1.pay)\n",
    "emp1.raise_pay()\n",
    "print(emp1.pay)\n",
    "print(employee.num_of_emps)"
   ]
  },
  {
   "cell_type": "code",
   "execution_count": null,
   "metadata": {},
   "outputs": [],
   "source": []
  }
 ],
 "metadata": {
  "kernelspec": {
   "display_name": "Python 3",
   "language": "python",
   "name": "python3"
  },
  "language_info": {
   "codemirror_mode": {
    "name": "ipython",
    "version": 3
   },
   "file_extension": ".py",
   "mimetype": "text/x-python",
   "name": "python",
   "nbconvert_exporter": "python",
   "pygments_lexer": "ipython3",
   "version": "3.12.2"
  }
 },
 "nbformat": 4,
 "nbformat_minor": 2
}
