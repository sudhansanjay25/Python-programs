{
 "cells": [
  {
   "cell_type": "code",
   "execution_count": 5,
   "metadata": {},
   "outputs": [
    {
     "name": "stdout",
     "output_type": "stream",
     "text": [
      "-42\n"
     ]
    }
   ],
   "source": [
    "def check(s):\n",
    "     a=0\n",
    "    f=True\n",
    "    if s[0].isalpha():\n",
    "        return 0\n",
    "    i=0\n",
    "    while i<len(s) and s[i].isalpha():\n",
    "        if s[i].isnumeric():\n",
    "            a=a*10+int(i)\n",
    "        if s[i]=='-':\n",
    "            f=False\n",
    "        i+=1\n",
    "    if f:\n",
    "        return a\n",
    "    else:\n",
    "        return -a\n",
    "s=input()\n",
    "print(check(s))"
   ]
  },
  {
   "cell_type": "code",
   "execution_count": 1,
   "metadata": {},
   "outputs": [
    {
     "data": {
      "text/plain": [
       "array([1, 2, 3, 4])"
      ]
     },
     "execution_count": 1,
     "metadata": {},
     "output_type": "execute_result"
    }
   ],
   "source": [
    "import numpy as np\n",
    "a1=np.array([1,2,3,4])\n",
    "a1"
   ]
  },
  {
   "cell_type": "code",
   "execution_count": 2,
   "metadata": {},
   "outputs": [
    {
     "name": "stdout",
     "output_type": "stream",
     "text": [
      "(0, 'a')\n",
      "(1, 'b')\n",
      "(2, 'a')\n",
      "(3, 'c')\n",
      "(4, 'd')\n"
     ]
    }
   ],
   "source": [
    "l=\"abacd\"\n",
    "for i in enumerate(l):\n",
    "    print(i)"
   ]
  },
  {
   "cell_type": "code",
   "execution_count": 3,
   "metadata": {},
   "outputs": [
    {
     "name": "stdout",
     "output_type": "stream",
     "text": [
      "{(-1, 0, 1), (-1, -1, 2)}\n"
     ]
    }
   ],
   "source": [
    "def check(n): \n",
    "    s=set()\n",
    "    h={}\n",
    "    for i,num in enumerate(n):\n",
    "        h[num]=i\n",
    "    for i in range(len(n)):\n",
    "        for j in range(i+1,len(n)):\n",
    "            des=-n[i]-n[j]\n",
    "            if des in h and h[des]!=i and h[des]!=j:\n",
    "                s.add(tuple(sorted([n[i],n[j],des])))\n",
    "    return s\n",
    "n=[-1,0,1,2,-1,-4]\n",
    "print(check(n))"
   ]
  },
  {
   "cell_type": "code",
   "execution_count": 2,
   "metadata": {},
   "outputs": [
    {
     "name": "stdout",
     "output_type": "stream",
     "text": [
      "3\n",
      "5\n",
      "7\n"
     ]
    }
   ],
   "source": [
    "l=[[1,2,3],[4,5,6],[7,8,9]]\n"
   ]
  },
  {
   "cell_type": "code",
   "execution_count": 6,
   "metadata": {},
   "outputs": [
    {
     "name": "stdout",
     "output_type": "stream",
     "text": [
      "1\n",
      "1 1\n",
      "1 2 1\n",
      "1 3 3 1\n",
      "1 4 6 4 1\n",
      "1 5 10 10 5 1\n",
      "1 6 15 20 15 6 1\n",
      "1 7 21 35 35 21 7 1\n",
      "1 8 28 56 70 56 28 8 1\n",
      "1 9 36 84 126 126 84 36 9 1\n"
     ]
    }
   ],
   "source": [
    "def check(n):\n",
    "    rows = [[1]]\n",
    "    for _ in range(1,n):\n",
    "        row=[1]\n",
    "        for i in range(1,len(rows[-1])):\n",
    "            num = rows[-1][i]+rows[-1][i-1]\n",
    "            row.append(num)\n",
    "        row.append(1)\n",
    "        rows.append(row)\n",
    "    return rows\n",
    "n=10\n",
    "res = check(n)\n",
    "for i in res:\n",
    "    print(*i)"
   ]
  },
  {
   "cell_type": "code",
   "execution_count": 2,
   "metadata": {},
   "outputs": [
    {
     "name": "stdout",
     "output_type": "stream",
     "text": [
      "\n"
     ]
    }
   ],
   "source": [
    "from collections import Counter\n",
    "a=input()\n",
    "d=Counter(a)\n",
    "b=\"\"\n",
    "for i in d:\n",
    "    h=hex(d[i])[2:]\n",
    "    b+=i.lower()\n",
    "    b+=str(h)\n",
    "b=b[::-1]\n",
    "print(b)"
   ]
  },
  {
   "cell_type": "code",
   "execution_count": 4,
   "metadata": {},
   "outputs": [
    {
     "name": "stdout",
     "output_type": "stream",
     "text": [
      "Row and column size cannot be negative\n"
     ]
    }
   ],
   "source": [
    "a=int(input())\n",
    "b=int(input())\n",
    "l=[]\n",
    "for i in range(a):\n",
    "    temp=[]\n",
    "    for j in range(b):\n",
    "        temp.append(int(input()))\n",
    "    l.append(temp)\n",
    "if a<0 or b<0:\n",
    "    print(\"Row and column size cannot be negative\")\n",
    "else:\n",
    "    for i in l:\n",
    "        print(*i)"
   ]
  },
  {
   "cell_type": "code",
   "execution_count": 3,
   "metadata": {},
   "outputs": [
    {
     "name": "stdout",
     "output_type": "stream",
     "text": [
      "[[1], [1, 1], [1, 2, 1], [1, 3, 3, 1], [1, 4, 6, 4, 1]]\n"
     ]
    }
   ],
   "source": [
    "# Pascals Triangle\n",
    "def check(n):\n",
    "    first_row=[1]\n",
    "    rows=[first_row]\n",
    "    for _ in range(1, n):\n",
    "        row=[1]\n",
    "        for i in range(1,len(rows[-1])):\n",
    "            num = rows[-1][i-1] + rows[-1][i]\n",
    "            row.append(num)\n",
    "        row.append(1)\n",
    "        rows.append(row)\n",
    "    return rows\n",
    "n=5\n",
    "print(check(n))\n"
   ]
  },
  {
   "cell_type": "code",
   "execution_count": 8,
   "metadata": {},
   "outputs": [
    {
     "name": "stdout",
     "output_type": "stream",
     "text": [
      "72626\n",
      "783426\n",
      "783426\n",
      "726529\n",
      "43556\n"
     ]
    }
   ],
   "source": [
    "def check(s):\n",
    "    d={'a':2,'b':2,'c':2,'d':3,'e':3,'f':3,'g':4,'h':4,'i':4,'j':5,'k':5,'l':5,'m':6,'n':6,'o':6,'p':7,'q':7,'r':7,'s':7,'t':8,'u':8,'v':8,'w':9,'x':9,'y':9,'z':9}\n",
    "    b=0\n",
    "    for i in s:\n",
    "        b=b*10+d[i.lower()]\n",
    "    return b\n",
    "n=int(input())\n",
    "for i in range(n):\n",
    "    a=input()\n",
    "    print(check(a))"
   ]
  },
  {
   "cell_type": "code",
   "execution_count": null,
   "metadata": {},
   "outputs": [],
   "source": [
    "# Substring that contains all the lower case\n",
    "def check(a,b):\n",
    "    if len(a)<26:\n",
    "        return -1\n",
    "    j=0\n",
    "    f=''\n",
    "    for i in range(len(a)):\n",
    "        if a[i] == b[j]:\n",
    "            f+=a[i]\n",
    "            j+=1\n",
    "        elif a[i] == '?' and j < 26:\n",
    "            f+=b[j]\n",
    "            j+=1\n",
    "        else:\n",
    "            f+=a[i]\n",
    "    f=f.replace(\"?\",\"a\")\n",
    "    if j<26:\n",
    "        return -1\n",
    "    return f\n",
    "a=input()\n",
    "b='abcdefghijklmnopqrstuvwxyz'\n",
    "print(check(a,b))"
   ]
  },
  {
   "cell_type": "code",
   "execution_count": null,
   "metadata": {},
   "outputs": [],
   "source": [
    "def binary(n,l,s):\n",
    "    low=0\n",
    "    high=n-1\n",
    "    c=0\n",
    "    while low<high:\n",
    "        c+=1\n",
    "        mid=low+(high-low)//2\n",
    "        if l[mid]==s:\n",
    "            return [c,mid]\n",
    "        elif s>l[mid]:\n",
    "            low=mid+1\n",
    "        else:\n",
    "            high=mid-1\n",
    "    return [c,-1]\n",
    "n=int(input())\n",
    "l=[int(x) for x in input().split()[:n]]\n",
    "s=int(input())\n",
    "res = binary(n,l,s)\n",
    "if res[1]>-1:\n",
    "    print(f\"{s} found at location {res[1]}/n{res[0]} comparisons are done\")\n",
    "else:\n",
    "    print(f\"Not found\\n{res[0]} comparisons are done\")"
   ]
  },
  {
   "cell_type": "code",
   "execution_count": 1,
   "metadata": {},
   "outputs": [
    {
     "name": "stdout",
     "output_type": "stream",
     "text": [
      "4 6 5 7 8\n"
     ]
    }
   ],
   "source": [
    "l=[]\n",
    "for i in range(3):\n",
    "    temp=[int(x) for x in input().split()[:5]]\n",
    "    l.append(temp)\n",
    "s=[0]*5\n",
    "for i in range(3):\n",
    "    for j in range(5):\n",
    "        s[j]+=l[i][j]\n",
    "print(*s)\n",
    "\n"
   ]
  },
  {
   "cell_type": "code",
   "execution_count": 2,
   "metadata": {},
   "outputs": [
    {
     "ename": "TypeError",
     "evalue": "unhashable type: 'Counter'",
     "output_type": "error",
     "traceback": [
      "\u001b[1;31m---------------------------------------------------------------------------\u001b[0m",
      "\u001b[1;31mTypeError\u001b[0m                                 Traceback (most recent call last)",
      "Cell \u001b[1;32mIn[2], line 6\u001b[0m\n\u001b[0;32m      4\u001b[0m test \u001b[38;5;241m=\u001b[39m \u001b[38;5;124m'\u001b[39m\u001b[38;5;124msudballoohann\u001b[39m\u001b[38;5;124m'\u001b[39m\n\u001b[0;32m      5\u001b[0m t_freq \u001b[38;5;241m=\u001b[39m Counter(test)\n\u001b[1;32m----> 6\u001b[0m \u001b[38;5;28mprint\u001b[39m(\u001b[43mb_freq\u001b[49m\u001b[43m \u001b[49m\u001b[38;5;129;43;01min\u001b[39;49;00m\u001b[43m \u001b[49m\u001b[43mt_freq\u001b[49m)\n",
      "\u001b[1;31mTypeError\u001b[0m: unhashable type: 'Counter'"
     ]
    }
   ],
   "source": [
    "from collections import Counter\n",
    "b='balloon'\n",
    "b_freq = Counter(b)\n",
    "test = 'sudballoohann'\n",
    "t_freq = Counter(test)\n",
    "print(b_freqt_freq)\n"
   ]
  },
  {
   "cell_type": "code",
   "execution_count": 4,
   "metadata": {},
   "outputs": [
    {
     "name": "stdout",
     "output_type": "stream",
     "text": [
      "3334567\n",
      "3234567\n",
      "3334567\n",
      "4444567\n"
     ]
    }
   ],
   "source": [
    "n = 4\n",
    "a = 2*n\n",
    "for i in range(1,n+1):\n",
    "    for j in range(1,a):\n",
    "        num = m(i,j,n-i,n-j)\n",
    "        print(num,end=\"\")\n",
    "    print()"
   ]
  },
  {
   "cell_type": "code",
   "execution_count": 2,
   "metadata": {},
   "outputs": [
    {
     "name": "stdout",
     "output_type": "stream",
     "text": [
      "a2b2c2\n"
     ]
    }
   ],
   "source": [
    "from collections import Counter\n",
    "a= input()\n",
    "b = Counter(a)\n",
    "c = ''\n",
    "for i in b:\n",
    "    c = c + str(i) + str(b[i])\n",
    "print(c)"
   ]
  },
  {
   "cell_type": "code",
   "execution_count": 12,
   "metadata": {},
   "outputs": [
    {
     "name": "stdout",
     "output_type": "stream",
     "text": [
      "1\n",
      "2*3\n",
      "4*5*6\n",
      "7*8*9*10\n",
      "7*8*9*10\n",
      "4*5*6\n",
      "2*3\n",
      "1\n"
     ]
    }
   ],
   "source": [
    "n = int(input())\n",
    "a = None\n",
    "c = 1\n",
    "for i in range(1,n+1):\n",
    "    for j in range(1,i+1):\n",
    "        if j==i:\n",
    "            print(c,end=\"\")\n",
    "        else:\n",
    "            print(c,\"*\",sep=\"\",end=\"\")\n",
    "        c+=1\n",
    "        if i==n and j==1:\n",
    "            a=c-1\n",
    "    print()\n",
    "for i in range(1,n+1):\n",
    "    c = a\n",
    "    for j in range(n-i+1,0,-1):\n",
    "        if j==1:\n",
    "            print(c,end=\"\")\n",
    "        else:\n",
    "            print(c,\"*\",sep=\"\",end=\"\")\n",
    "        c+=1\n",
    "    a = a - (n-i)\n",
    "    print()\n"
   ]
  },
  {
   "cell_type": "code",
   "execution_count": 4,
   "metadata": {},
   "outputs": [
    {
     "name": "stdout",
     "output_type": "stream",
     "text": [
      "2 0 3 1 5 1 7 2 11 3 13 5 17 8 "
     ]
    }
   ],
   "source": [
    "n = int(input())\n",
    "f = [0,1]\n",
    "if n>2:\n",
    "    for i in range(2,n):\n",
    "        f.append(f[-1] + f[-2])\n",
    "p = [0] * n\n",
    "i = 0\n",
    "e = 2\n",
    "while p[-1] == 0:\n",
    "    c = 0\n",
    "    for j in range(1,e//2+1):\n",
    "        if e%j==0:\n",
    "            c +=1\n",
    "    if c == 1:\n",
    "        p[i] = e\n",
    "        i+=1\n",
    "    e+=1\n",
    "for i in range(n):\n",
    "    print(p[i], f[i], end=\" \")    "
   ]
  },
  {
   "cell_type": "code",
   "execution_count": null,
   "metadata": {},
   "outputs": [],
   "source": [
    "a = 4\n",
    "l = [int(x) for x in input().split()[:a]]\n",
    "for i in range(a):\n",
    "    l.append(int(input()))"
   ]
  },
  {
   "cell_type": "code",
   "execution_count": 2,
   "metadata": {},
   "outputs": [
    {
     "name": "stdout",
     "output_type": "stream",
     "text": [
      "0 1 1 2 3 "
     ]
    }
   ],
   "source": [
    "n = int(input())\n",
    "a, b= 0, 1\n",
    "tot = 0\n",
    "for i in range(n):\n",
    "    print(tot,end=' ')\n",
    "    a = b\n",
    "    b = tot\n",
    "    tot = a+b\n"
   ]
  },
  {
   "cell_type": "code",
   "execution_count": 6,
   "metadata": {},
   "outputs": [
    {
     "name": "stdout",
     "output_type": "stream",
     "text": [
      "1 \n",
      "2 7 \n",
      "3 8 13 \n",
      "4 9 14 19 \n",
      "5 10 15 20 25 \n"
     ]
    }
   ],
   "source": [
    "n = int(input())\n",
    "for i in range(1,n+1):\n",
    "    for j in range(1,i+1):\n",
    "        print(i + ((j-1)*n),end = ' ')\n",
    "    print()"
   ]
  },
  {
   "cell_type": "code",
   "execution_count": 4,
   "metadata": {},
   "outputs": [
    {
     "name": "stdout",
     "output_type": "stream",
     "text": [
      "1 \n",
      "1 *2 \n",
      "1 *2 *3 \n",
      "1 *2 *3 *4 \n",
      "1 *2 *3 *4 \n",
      "1 *2 *3 \n",
      "1 *2 \n",
      "1 \n"
     ]
    }
   ],
   "source": [
    "n = int(input())\n",
    "for i in range(1,n+1):\n",
    "    for j in range(1,i+1):\n",
    "        if j==1:\n",
    "            print(j, end = \" \")\n",
    "        else:\n",
    "            print(\"*\",j,sep=\"\",end=\" \")\n",
    "    print()\n",
    "for i in range(n,0,-1):\n",
    "    for j in range(1,i+1):\n",
    "        if j==1:\n",
    "            print(j, end = \" \")\n",
    "        else:\n",
    "            print(\"*\",j,sep=\"\",end=\" \")\n",
    "    print()"
   ]
  },
  {
   "cell_type": "code",
   "execution_count": 1,
   "metadata": {},
   "outputs": [
    {
     "name": "stdout",
     "output_type": "stream",
     "text": [
      "Keras version: 3.6.0\n",
      "TensorFlow version: 2.18.0\n"
     ]
    }
   ],
   "source": [
    "import keras\n",
    "import tensorflow as tf\n",
    "print(\"Keras version:\", keras.__version__)\n",
    "print(\"TensorFlow version:\", tf.__version__)"
   ]
  },
  {
   "cell_type": "code",
   "execution_count": 7,
   "metadata": {},
   "outputs": [
    {
     "name": "stdout",
     "output_type": "stream",
     "text": [
      "    * \n",
      "  * * * \n",
      "* * * * * \n",
      "  * * * \n",
      "    * \n"
     ]
    }
   ],
   "source": [
    "n = int(input())\n",
    "for i in range(1,n+1):\n",
    "    print(\"  \"*(n-i) + \"* \"*(2*i-1))\n",
    "for i in range(n-1, 0,-1):\n",
    "    print(\"  \"*(n-i) + \"* \"*(2*i-1))\n"
   ]
  },
  {
   "cell_type": "code",
   "execution_count": 2,
   "metadata": {},
   "outputs": [
    {
     "name": "stdout",
     "output_type": "stream",
     "text": [
      "Element Found\n"
     ]
    }
   ],
   "source": [
    "#linear Search\n",
    "def linear_search(n,l,t):\n",
    "    for i in l:\n",
    "        if i==t:\n",
    "            print(\"Element Found\")\n",
    "            return\n",
    "    print(\"Element not Found\")\n",
    "n=int(input(\"Enter the no of Elements: \"))\n",
    "l=[int(x) for x in input().split()[:n]]\n",
    "t=int(input(\"Enter the search value: \"))\n",
    "linear_search(n,l,t)\n",
    "\n"
   ]
  },
  {
   "cell_type": "code",
   "execution_count": 10,
   "metadata": {},
   "outputs": [
    {
     "name": "stdout",
     "output_type": "stream",
     "text": [
      "Element Found\n"
     ]
    }
   ],
   "source": [
    "\n",
    "# Binary search\n",
    "def binary_search(n,l,t):\n",
    "    low = 0\n",
    "    high = n-1\n",
    "    while low<=high:\n",
    "        mid = low + (high-low)//2\n",
    "        if l[mid] == t:\n",
    "            print(\"Element Found\")\n",
    "            return\n",
    "        elif l[mid] < t:\n",
    "            low = mid + 1\n",
    "        else:\n",
    "            high = mid - 1\n",
    "    print(\"Element Not Found\")\n",
    "\n",
    "n=int(input(\"Enter the no of Elements: \"))\n",
    "l=[int(x) for x in input().split()[:n]]\n",
    "t=int(input(\"Enter the search value: \"))\n",
    "binary_search(n,l,t)"
   ]
  },
  {
   "cell_type": "code",
   "execution_count": 5,
   "metadata": {},
   "outputs": [
    {
     "name": "stdout",
     "output_type": "stream",
     "text": [
      "Middle number is even\n"
     ]
    }
   ],
   "source": [
    "n = int(input())\n",
    "if len(str(n))%2==0:\n",
    "    print(\"No middle number\")\n",
    "else:\n",
    "    n= str(n)\n",
    "    m = len(n)//2\n",
    "    if int(n[m])%2==0:\n",
    "        print(\"Middle number is even\")\n",
    "    else:\n",
    "        print(\"Middle number is odd\")"
   ]
  },
  {
   "cell_type": "code",
   "execution_count": 3,
   "metadata": {},
   "outputs": [
    {
     "name": "stdout",
     "output_type": "stream",
     "text": [
      "False\n",
      "True\n",
      "True\n"
     ]
    }
   ],
   "source": [
    "a = eval(input())\n",
    "b = eval(input())\n",
    "print(a and b)\n",
    "print( a or b)\n",
    "print(not(a and b))"
   ]
  },
  {
   "cell_type": "markdown",
   "metadata": {},
   "source": [
    "SEPARATE CHAINING HASHING"
   ]
  },
  {
   "cell_type": "code",
   "execution_count": 10,
   "metadata": {},
   "outputs": [
    {
     "name": "stdout",
     "output_type": "stream",
     "text": [
      "at index 0\n",
      "91->\n",
      "at index 1\n",
      "78->\n",
      "at index 2\n",
      "65->23->\n",
      "at index 3\n",
      "No Hash Entry\n",
      "at index 4\n",
      "No Hash Entry\n",
      "at index 5\n",
      "No Hash Entry\n",
      "at index 6\n",
      "48->\n"
     ]
    }
   ],
   "source": [
    "def sep(n,l):\n",
    "    h = [0]*7\n",
    "    for i in l:\n",
    "        rem = i%7\n",
    "        if h[rem] == 0:\n",
    "            h[rem]=i\n",
    "        elif type(h[rem])==list:\n",
    "            h[rem].append(i)\n",
    "        else:\n",
    "            a = h[rem]\n",
    "            h[rem] = []\n",
    "            h[rem].extend([a,i])\n",
    "\n",
    "    return h\n",
    "\n",
    "n = int(input())\n",
    "l = [int(x) for x in input().split()[:n]]\n",
    "h = sep(n, l)\n",
    "for i in range(len(h)):\n",
    "    print(f\"at index {i}\")\n",
    "    if h[i] == 0:\n",
    "        print(\"No Hash Entry\")\n",
    "        continue\n",
    "    elif type(h[i]) == int:\n",
    "        print(h[i],end=\"\")\n",
    "    else:\n",
    "        if len(h[i])==0:\n",
    "            print(\"No Hash Entry\")\n",
    "            continue\n",
    "        else:\n",
    "            print(*h[i],sep=\"->\",end=\"\")\n",
    "    print(\"->\")"
   ]
  },
  {
   "cell_type": "code",
   "execution_count": null,
   "metadata": {},
   "outputs": [],
   "source": [
    "a,b = map(int, input().split())\n",
    "l =[]\n",
    "for i in range(a):\n",
    "    d=[int(x) for x in input().split()[:b]]\n",
    "    l.append(d)\n",
    "print(l)"
   ]
  },
  {
   "cell_type": "code",
   "execution_count": 1,
   "metadata": {},
   "outputs": [
    {
     "name": "stdout",
     "output_type": "stream",
     "text": [
      "8\n"
     ]
    }
   ],
   "source": [
    "def check(nums):\n",
    "    if len(nums)<2:\n",
    "        return 0\n",
    "    m = 0\n",
    "    for i in range(len(nums)-1):\n",
    "        if nums[i] > nums[i+1]:\n",
    "            m = max(m, nums[i] - nums[i+1])\n",
    "    return m\n",
    "nums = [3,6,9,1]\n",
    "print(check(nums))"
   ]
  },
  {
   "cell_type": "code",
   "execution_count": 3,
   "metadata": {},
   "outputs": [
    {
     "name": "stdout",
     "output_type": "stream",
     "text": [
      "(101, 1)\n",
      "(102, 2)\n",
      "(103, 3)\n",
      "(104, 4)\n",
      "(105, 5)\n"
     ]
    }
   ],
   "source": [
    "l = [1,2,3,4,5]\n",
    "for i in enumerate(l,101):\n",
    "    print(i)"
   ]
  },
  {
   "cell_type": "code",
   "execution_count": 9,
   "metadata": {},
   "outputs": [
    {
     "data": {
      "text/plain": [
       "array([[1., 2.],\n",
       "       [3., 4.]])"
      ]
     },
     "execution_count": 9,
     "metadata": {},
     "output_type": "execute_result"
    }
   ],
   "source": [
    "\n",
    "import numpy as np\n",
    "a = int(input())\n",
    "b = int(input())\n",
    "matrix = np.empty((a,b), dtype = int)\n",
    "for i in range(a):\n",
    "    for j in range(b):\n",
    "        matrix[i][j] = int(input())\n",
    "matrix"
   ]
  },
  {
   "cell_type": "code",
   "execution_count": 8,
   "metadata": {},
   "outputs": [
    {
     "data": {
      "text/plain": [
       "array([[1., 2.],\n",
       "       [3., 4.]])"
      ]
     },
     "execution_count": 8,
     "metadata": {},
     "output_type": "execute_result"
    }
   ],
   "source": [
    "matrix"
   ]
  },
  {
   "cell_type": "code",
   "execution_count": 4,
   "metadata": {},
   "outputs": [
    {
     "name": "stdout",
     "output_type": "stream",
     "text": [
      "[5, 7, 9, 77, 23, 73, 61]\n"
     ]
    }
   ],
   "source": [
    "l = [5,7,22,9,54,62,77,23,73,61]\n",
    "f = list(filter(lambda x: (x%2!=0), l))\n",
    "print(f)"
   ]
  },
  {
   "cell_type": "code",
   "execution_count": 5,
   "metadata": {},
   "outputs": [
    {
     "data": {
      "text/plain": [
       "<ErrorbarContainer object of 3 artists>"
      ]
     },
     "execution_count": 5,
     "metadata": {},
     "output_type": "execute_result"
    },
    {
     "data": {
      "image/png": "[encoded data removed]",
      "text/plain": [
       "<Figure size 640x480 with 1 Axes>"
      ]
     },
     "metadata": {},
     "output_type": "display_data"
    }
   ],
   "source": [
    "import numpy as np\n",
    "import matplotlib.pyplot as plt\n",
    "x = np.array([1,2,3,4,5])\n",
    "y = np.array([2,4,6,8,10])\n",
    "plt.errorbar(x, y, xerr=1, yerr=1)"
   ]
  },
  {
   "cell_type": "code",
   "execution_count": 3,
   "metadata": {},
   "outputs": [
    {
     "data": {
      "text/plain": [
       "[[1, 2], [3, 4], [4, 5]]"
      ]
     },
     "execution_count": 3,
     "metadata": {},
     "output_type": "execute_result"
    }
   ],
   "source": [
    "n = 3\n",
    "l = eval(input())\n",
    "l = list(l)\n",
    "l"
   ]
  },
  {
   "cell_type": "code",
   "execution_count": 2,
   "metadata": {},
   "outputs": [
    {
     "name": "stdout",
     "output_type": "stream",
     "text": [
      "-1\n"
     ]
    }
   ],
   "source": [
    "def check(s,t):\n",
    "    l=s.split()\n",
    "    for i in range(len(l)):\n",
    "        if t in l[i] and len(t)<len(l[i]) and l[i][:len(t)]==t:\n",
    "            return i+1\n",
    "    return -1\n",
    "s = \"hellohello hellohellohello\"\n",
    "t = \"ell\"\n",
    "print(check(s,t))"
   ]
  },
  {
   "cell_type": "code",
   "execution_count": 1,
   "metadata": {},
   "outputs": [
    {
     "name": "stdout",
     "output_type": "stream",
     "text": [
      "False\n"
     ]
    }
   ],
   "source": [
    "def check(s,t):\n",
    "    l,h=0,len(s)-1\n",
    "    L=0\n",
    "    R=0\n",
    "    while l<h:\n",
    "        if s[l]!='_':\n",
    "            if s[l]=='L' and s[l]!=t[l]:\n",
    "                if s[l] not in t[:l] or \"_\" not in t[:l]:\n",
    "                    return False\n",
    "                elif l!=0:\n",
    "                    if s[l-1]=='R':\n",
    "                        return False\n",
    "            elif s[h]=='R' and s[h]!=t[h]:\n",
    "                if s[h] not in t[h:] or '_' not in t[h:]:\n",
    "                    return False\n",
    "                elif h!=len(s)-1:\n",
    "                    if s[h+1]==\"L\":\n",
    "                        return False\n",
    "        l+=1\n",
    "        h-=1\n",
    "\n",
    "    return True\n",
    "s = \"_L__R__R_\"\n",
    "t = \"L______RR\"\n",
    "print(check(s,t))"
   ]
  },
  {
   "cell_type": "code",
   "execution_count": null,
   "metadata": {},
   "outputs": [
    {
     "ename": "NameError",
     "evalue": "name 'tf' is not defined",
     "output_type": "error",
     "traceback": [
      "\u001b[1;31m---------------------------------------------------------------------------\u001b[0m",
      "\u001b[1;31mNameError\u001b[0m                                 Traceback (most recent call last)",
      "Cell \u001b[1;32mIn[2], line 1\u001b[0m\n\u001b[1;32m----> 1\u001b[0m train \u001b[38;5;241m=\u001b[39m \u001b[43mtf\u001b[49m\u001b[38;5;241m.\u001b[39mdata\u001b[38;5;241m.\u001b[39mDataset\u001b[38;5;241m.\u001b[39mzip((train_images, train_labels))\n\u001b[0;32m      2\u001b[0m train \u001b[38;5;241m=\u001b[39m train\u001b[38;5;241m.\u001b[39mshuffle(\u001b[38;5;241m5000\u001b[39m)\n\u001b[0;32m      3\u001b[0m train \u001b[38;5;241m=\u001b[39m train\u001b[38;5;241m.\u001b[39mbatch(\u001b[38;5;241m8\u001b[39m)\n",
      "\u001b[1;31mNameError\u001b[0m: name 'tf' is not defined"
     ]
    }
   ],
   "source": [
    "train = tf.data.Dataset.zip((train_images, train_labels))\n",
    "train = train.shuffle(5000)\n",
    "train = train.batch(8)\n",
    "train = train.prefetch(4)\n",
    "test = tf.data.Dataset.zip((test_images, test_labels))\n",
    "test = test.shuffle(1300)\n",
    "test = test.batch(8)\n",
    "test = test.prefetch(4)\n",
    "val = tf.data.Dataset.zip((val_images, val_labels))\n",
    "val = val.shuffle(1000)\n",
    "val = val.batch(8)\n",
    "val = val.prefetch(4)\n",
    "from tensorflow.keras.models import Model\n",
    "from tensorflow.keras.layers import Input, Conv2D, MaxPooling2D, Dense, GlobalMaxPooling2D \n",
    "from tensorflow.keras.applications import VGG16\n",
    "vgg = VGG16(include_top=False)\n",
    "def build_model():\n",
    "    input_layer = Input(shape=(120,120,3))\n",
    "\n",
    "    vgg = VGG16(include_top=False)(input_layer)\n",
    "\n",
    "    f1 = GlobalMaxPooling2D()(vgg)\n",
    "    class1 = Dense(2048, activation='relu')(f1)\n",
    "    class2 = Dense(1, activation='sigmoid')(class1)\n",
    "\n",
    "    f2 = GlobalMaxPooling2D()(vgg)\n",
    "    regress1 = Dense(2048, activation='relu')(f2)\n",
    "    regress2 = Dense(4, activation='sigmoid')(regress1)\n",
    "\n",
    "    facetracker = Model(inputs = input_layer, outputs = [class2, regress2])\n",
    "    return facetracker\n",
    "\n",
    "facetracker = build_model()\n",
    "batches_per_epoch = len(train)\n",
    "lr_decay = (1/0.75-1)/batches_per_epoch\n",
    "opt =  tf.keras.optimizers.Adam(learning_rate=0.0001, decay = lr_decay)\n",
    "def localization_loss(y_true, yhat):\n",
    "    delta_coord = tf.reduce_sum(tf.square(y_true[:,:2] - yhat[:,:2]))\n",
    "\n",
    "    h_true = y_true[:,3] - y_true[:,1]\n",
    "    w_true = y_true[:,2] - y_true[:,0]\n",
    "    \n",
    "    h_pred = yhat[:,3] - yhat[:,1]\n",
    "    w_pred = yhat[:,2] - yhat[:,0]\n",
    "\n",
    "    delta_size = tf.reduce_sum(tf.square(w_true - w_pred) + tf.square(h_true-h_pred))\n",
    "    return delta_coord + delta_size\n",
    "classloss = tf.keras.losses.BinaryCrossentropy()\n",
    "regressloss = localization_loss\n",
    "\n",
    "class FaceTracker(Model):\n",
    "    def __init__(self, tracker,**kwargs):\n",
    "        super().__init__(**kwargs)\n",
    "        self.model = tracker\n",
    "        \n",
    "\n",
    "    def compile(self, opt, classloss, localizationloss, **kwargs):\n",
    "        super().compile(**kwargs)\n",
    "        self.closs = classloss\n",
    "        self.lloss = localizationloss\n",
    "        self.opt = opt\n",
    "\n",
    "    def train_step(self, batch, **kwargs):\n",
    "        X, y = batch\n",
    "        print(f\"X shape: {X.shape}\") \n",
    "        print(f\"y[0] shape: {y[0].shape}\") \n",
    "        print(f\"y[1] shape: {y[1].shape}\")\n",
    "        with tf.GradientTape() as tape:\n",
    "            classes, coords = self.model(X, training=True)\n",
    "\n",
    "            print(f\"classes shape: {classes.shape}\") \n",
    "            print(f\"coords shape: {coords.shape}\")\n",
    "\n",
    "            batch_classloss = self.closs(y[0], classes)\n",
    "            batch_localizationloss = self.lloss(tf.cast(y[1], tf.float32), coords)\n",
    "\n",
    "            total_loss = batch_localizationloss+0.5*batch_classloss\n",
    "\n",
    "            grad = tape.gradient(total_loss, self.model.trainable_variables)\n",
    "\n",
    "        opt.apply_gradients(zip(grad, self.model.trainable_variables))\n",
    "\n",
    "        return {\"total_loss\":total_loss, \"class_loss\":batch_classloss, \"regress_loss\":batch_localizationloss} \n",
    "    def test_step(self, batch, **kwargs):\n",
    "        X, y = batch\n",
    "\n",
    "        classes, coords = self.model(X, training = False)\n",
    "\n",
    "        batch_classloss = self.closs(y[0], classes)\n",
    "        batch_localizationloss = self.lloss(tf.cast(y[1], tf.float32), coords)\n",
    "        total_loss = batch_localizationloss+0.5*batch_classloss\n",
    "\n",
    "        return {\"total_loss\":total_loss, \"class_loss\":batch_classloss, \"regressloss\":batch_localizationloss}\n",
    "\n",
    "    def call(self, X, **kwargs):\n",
    "        return self.model(X,**kwargs)\n",
    "model = FaceTracker(facetracker)\n",
    "model.compile(opt, classloss, regressloss)\n",
    "logdir = 'logs'\n",
    "tensorboard_callback = tf.keras.callbacks.TensorBoard(log_dir=logdir)\n",
    "hist = model.fit(train, epochs=40, validation_data=val, callbacks = [tensorboard_callback])"
   ]
  },
  {
   "cell_type": "code",
   "execution_count": 2,
   "metadata": {},
   "outputs": [
    {
     "ename": "error",
     "evalue": "OpenCV(4.10.0) :-1: error: (-5:Bad argument) in function 'imshow'\n> Overload resolution failed:\n>  - mat is not a numpy array, neither a scalar\n>  - Expected Ptr<cv::cuda::GpuMat> for argument 'mat'\n>  - Expected Ptr<cv::UMat> for argument 'mat'\n",
     "output_type": "error",
     "traceback": [
      "\u001b[1;31m---------------------------------------------------------------------------\u001b[0m",
      "\u001b[1;31merror\u001b[0m                                     Traceback (most recent call last)",
      "Cell \u001b[1;32mIn[2], line 4\u001b[0m\n\u001b[0;32m      2\u001b[0m \u001b[38;5;28;01mimport\u001b[39;00m \u001b[38;5;21;01mface_recognition\u001b[39;00m\n\u001b[0;32m      3\u001b[0m img \u001b[38;5;241m=\u001b[39m \u001b[38;5;124mr\u001b[39m\u001b[38;5;124m'\u001b[39m\u001b[38;5;124mC:/Users/Lenovo/OneDrive/Python/Programs/Opencv/Photos/lady.jpg\u001b[39m\u001b[38;5;124m'\u001b[39m\n\u001b[1;32m----> 4\u001b[0m \u001b[43mcv\u001b[49m\u001b[38;5;241;43m.\u001b[39;49m\u001b[43mimshow\u001b[49m\u001b[43m(\u001b[49m\u001b[38;5;124;43m\"\u001b[39;49m\u001b[38;5;124;43mimg\u001b[39;49m\u001b[38;5;124;43m\"\u001b[39;49m\u001b[43m,\u001b[49m\u001b[43m \u001b[49m\u001b[43mimg\u001b[49m\u001b[43m)\u001b[49m\n\u001b[0;32m      5\u001b[0m cv\u001b[38;5;241m.\u001b[39mwaitKey(\u001b[38;5;241m0\u001b[39m)\n\u001b[0;32m      6\u001b[0m \u001b[38;5;66;03m# r = cv.cvtColor(img, cv.COLOR_BGR2RGB)\u001b[39;00m\n\u001b[0;32m      7\u001b[0m \u001b[38;5;66;03m# encode = face_recognition.face_encodings(r)[0]\u001b[39;00m\n\u001b[0;32m      8\u001b[0m \u001b[38;5;66;03m# print(encode)\u001b[39;00m\n",
      "\u001b[1;31merror\u001b[0m: OpenCV(4.10.0) :-1: error: (-5:Bad argument) in function 'imshow'\n> Overload resolution failed:\n>  - mat is not a numpy array, neither a scalar\n>  - Expected Ptr<cv::cuda::GpuMat> for argument 'mat'\n>  - Expected Ptr<cv::UMat> for argument 'mat'\n"
     ]
    }
   ],
   "source": [
    "import cv2 as cv\n",
    "import face_recognition\n",
    "img = r'C:/Users/Lenovo/OneDrive/Python/Programs/Opencv/Photos/lady.jpg'\n",
    "cv.imshow(\"img\", img)\n",
    "cv.waitKey(0)\n",
    "# r = cv.cvtColor(img, cv.COLOR_BGR2RGB)\n",
    "# encode = face_recognition.face_encodings(r)[0]\n",
    "# print(encode)"
   ]
  },
  {
   "cell_type": "code",
   "execution_count": null,
   "metadata": {},
   "outputs": [
    {
     "name": "stdout",
     "output_type": "stream",
     "text": [
      "Loading Encode File ...\n",
      "Encode File Loaded\n",
      "matches: [False, False, False, False]\n",
      "faceDis: [0.6625111  0.71049731 0.94998582 0.8113018 ]\n",
      "Final Match Results: [False, False, False, False]\n"
     ]
    }
   ],
   "source": [
    "import os\n",
    "import pickle\n",
    "import numpy as np\n",
    "import cv2\n",
    "import face_recognition\n",
    "\n",
    "# Load the encoding file\n",
    "print(\"Loading Encode File ...\")\n",
    "file = open('EncodeFile.p', 'rb')\n",
    "encodeListKnownWithIds = pickle.load(file)\n",
    "file.close()\n",
    "encodeListKnown, studentIds = encodeListKnownWithIds\n",
    "print(\"Encode File Loaded\")\n",
    "\n",
    "# Load the test image\n",
    "img = cv2.imread(r\"\")\n",
    "\n",
    "# Resize and convert image\n",
    "imgS = cv2.resize(img, (0, 0), None, 0.25, 0.25)\n",
    "imgS = cv2.cvtColor(imgS, cv2.COLOR_BGR2RGB)\n",
    "\n",
    "# Find face locations and encodings in the current frame\n",
    "faceCurFrame = face_recognition.face_locations(imgS)\n",
    "encodeCurFrame = face_recognition.face_encodings(imgS, faceCurFrame)\n",
    "\n",
    "# Ensure there is at least one face in the image\n",
    "if encodeCurFrame:\n",
    "    face = encodeCurFrame[0]\n",
    "    match_results = []\n",
    "\n",
    "    for encodeFace, faceLoc in zip(encodeCurFrame, faceCurFrame):\n",
    "        # Compare faces with a stricter tolerance\n",
    "        matches = face_recognition.compare_faces(encodeListKnown, encodeFace, tolerance=0.4)\n",
    "        faceDis = face_recognition.face_distance(encodeListKnown, encodeFace)\n",
    "        \n",
    "        # Debugging information\n",
    "        print(\"matches:\", matches)\n",
    "        print(\"faceDis:\", faceDis)\n",
    "\n",
    "        # Update match results\n",
    "        match_results.append(matches)\n",
    "\n",
    "    # Flatten the results for easier readability\n",
    "    flat_results = [any(match) for match in zip(*match_results)]\n",
    "    print(\"Final Match Results:\", flat_results)\n",
    "else:\n",
    "    print(\"No face detected in the input image.\")\n"
   ]
  },
  {
   "cell_type": "code",
   "execution_count": 1,
   "metadata": {},
   "outputs": [
    {
     "name": "stdout",
     "output_type": "stream",
     "text": [
      "Encoding Started...\n",
      "Number of encoded faces: 4\n",
      "Number of student IDs: 4\n",
      "File Saved\n"
     ]
    }
   ],
   "source": [
    "import os\n",
    "import cv2 as cv\n",
    "import face_recognition\n",
    "import pickle\n",
    "import numpy as np\n",
    "\n",
    "path = r'C:/Users/Lenovo/OneDrive/Python/Programs/facerecognition/images'\n",
    "pathlist = os.listdir(path)\n",
    "imglist = []\n",
    "studid = []\n",
    "\n",
    "for i in pathlist:\n",
    "    img_path = os.path.join(path, i)\n",
    "    img = cv.imread(img_path)\n",
    "    \n",
    "    # Skip if image cannot be read\n",
    "    if img is None:\n",
    "        print(f\"Could not read image: {i}\")\n",
    "        continue\n",
    "    \n",
    "    imglist.append(img)\n",
    "    studid.append(os.path.splitext(i)[0])\n",
    "\n",
    "def findencodings(imageslist):\n",
    "    encodelist = []\n",
    "    for img in imageslist:\n",
    "        # Convert to RGB\n",
    "        img = cv.cvtColor(img, cv.COLOR_BGR2RGB)\n",
    "        \n",
    "        # Find face locations\n",
    "        face_locations = face_recognition.face_locations(img)\n",
    "        \n",
    "        # Only encode if faces are found\n",
    "        if face_locations:\n",
    "            # Get encodings for detected faces\n",
    "            face_encodings = face_recognition.face_encodings(img, face_locations)\n",
    "            \n",
    "            # Add the first face encoding (if multiple faces, take the first)\n",
    "            encodelist.append(face_encodings[0])\n",
    "        else:\n",
    "            print(f\"No face found in an image, skipping...\")\n",
    "\n",
    "    return encodelist\n",
    "\n",
    "print(\"Encoding Started...\")\n",
    "encodelistknown = findencodings(imglist)\n",
    "print(f\"Number of encoded faces: {len(encodelistknown)}\")\n",
    "print(f\"Number of student IDs: {len(studid)}\")\n",
    "\n",
    "# Ensure the number of encodings matches the number of student IDs\n",
    "if len(encodelistknown) == len(studid):\n",
    "    encodelistknownid = [encodelistknown, studid]\n",
    "    \n",
    "    file = open(\"EncodeFile.p\", 'wb')\n",
    "    pickle.dump(encodelistknownid, file)\n",
    "    file.close()\n",
    "    print(\"File Saved\")\n",
    "else:\n",
    "    print(\"Mismatch between number of encodings and student IDs!\")"
   ]
  },
  {
   "cell_type": "code",
   "execution_count": 1,
   "metadata": {},
   "outputs": [
    {
     "name": "stdout",
     "output_type": "stream",
     "text": [
      "[ True  True  True False False]\n",
      "[ True  True False False False]\n",
      "[False False  True  True  True]\n",
      "[False False False  True  True]\n",
      "[False False  True False False]\n",
      "[ True  True False  True  True]\n",
      "[-1 -2 -3 -4 -5]\n"
     ]
    }
   ],
   "source": [
    "import numpy as np\n",
    "n = int(input())\n",
    "l = [int(x) for x in input().split()[:n]]\n",
    "arr = np.array(l)\n",
    "print(arr.__le__(3))\n",
    "print(arr.__lt__(3))\n",
    "print(arr.__ge__(3))\n",
    "print(arr.__gt__(3))\n",
    "print(arr.__eq__(3))\n",
    "print(arr.__ne__(3))\n",
    "print(np.negative(arr))\n"
   ]
  },
  {
   "cell_type": "code",
   "execution_count": 7,
   "metadata": {},
   "outputs": [
    {
     "name": "stdout",
     "output_type": "stream",
     "text": [
      "CSV file saved at: C:/Users/Lenovo/OneDrive/Python/Programs/Leetcode/homeprices.csv\n",
      "CSV file saved at: C:/Users/Lenovo/OneDrive/Python/Programs/Leetcode/areas.csv\n"
     ]
    }
   ],
   "source": [
    "import csv\n",
    "import os\n",
    "\n",
    "# Specify the directory where you want to save the files\n",
    "directory = r\"C:/Users/Lenovo/OneDrive/Python/Programs/Leetcode/\"  # Update this with your desired path\n",
    "\n",
    "# Ensure the directory exists\n",
    "os.makedirs(directory, exist_ok=True)\n",
    "\n",
    "# File paths\n",
    "homeprices_path = os.path.join(directory, \"homeprices.csv\")\n",
    "areas_path = os.path.join(directory, \"areas.csv\")\n",
    "\n",
    "# Create homeprices.csv\n",
    "homeprices_data = [\n",
    "    [\"area\", \"price\"],\n",
    "    [1200, 250000],\n",
    "    [1500, 320000],\n",
    "    [1800, 400000],\n",
    "    [2100, 450000],\n",
    "    [2500, 550000]\n",
    "]\n",
    "\n",
    "with open(homeprices_path, mode=\"w\", newline=\"\") as file:\n",
    "    writer = csv.writer(file)\n",
    "    writer.writerows(homeprices_data)\n",
    "\n",
    "print(f\"CSV file saved at: {homeprices_path}\")\n",
    "\n",
    "# Create areas.csv\n",
    "areas_data = [\n",
    "    [\"area\"],\n",
    "    [1000],\n",
    "    [1600],\n",
    "    [2300],\n",
    "    [3000],\n",
    "    [4000]\n",
    "]\n",
    "\n",
    "with open(areas_path, mode=\"w\", newline=\"\") as file:\n",
    "    writer = csv.writer(file)\n",
    "    writer.writerows(areas_data)\n",
    "\n",
    "print(f\"CSV file saved at: {areas_path}\")\n"
   ]
  },
  {
   "cell_type": "code",
   "execution_count": 12,
   "metadata": {},
   "outputs": [
    {
     "name": "stdout",
     "output_type": "stream",
     "text": [
      "Accuracy: 1.0\n",
      "Confusion Matrix:\n",
      "[[10  0  0]\n",
      " [ 0  9  0]\n",
      " [ 0  0 11]]\n"
     ]
    }
   ],
   "source": [
    "# Import libraries\n",
    "from sklearn.datasets import load_iris\n",
    "from sklearn.model_selection import train_test_split\n",
    "from sklearn.naive_bayes import GaussianNB\n",
    "from sklearn.metrics import accuracy_score, confusion_matrix\n",
    "# Load dataset\n",
    "data = load_iris()\n",
    "X = data.data\n",
    "y = data.target\n",
    "# Split data\n",
    "X_train, X_test, y_train, y_test = train_test_split(X, y, test_size=0.2, random_state=42)\n",
    "# Train model\n",
    "model = GaussianNB()\n",
    "model.fit(X_train, y_train)\n",
    "# Predict\n",
    "y_pred = model.predict(X_test)\n",
    "# Evaluate\n",
    "accuracy = accuracy_score(y_test, y_pred)\n",
    "conf_matrix = confusion_matrix(y_test, y_pred)\n",
    "print(f\"Accuracy: {accuracy}\")\n",
    "print(f\"Confusion Matrix:\\n{conf_matrix}\")\n"
   ]
  },
  {
   "cell_type": "code",
   "execution_count": 15,
   "metadata": {},
   "outputs": [
    {
     "name": "stdout",
     "output_type": "stream",
     "text": [
      "3\n"
     ]
    }
   ],
   "source": [
    "l = [1,2,3,3,3,3]\n",
    "m = 0\n",
    "n = 0\n",
    "for i in l:\n",
    "    b = l.count(i)\n",
    "    if b>m:\n",
    "        m = b\n",
    "        n = i \n",
    "if m>len(l)//2:\n",
    "    print(n)\n",
    "else:\n",
    "    print(-1)"
   ]
  },
  {
   "cell_type": "code",
   "execution_count": 21,
   "metadata": {},
   "outputs": [
    {
     "name": "stdout",
     "output_type": "stream",
     "text": [
      "Synthetic Dataset:\n",
      " [[52 93 15 72 61]\n",
      " [21 83 87 75 75]\n",
      " [88 24  3 22 53]\n",
      " [ 2 88 30 38  2]\n",
      " [64 60 21 33 76]\n",
      " [58 22 89 49 91]\n",
      " [59 42 92 60 80]\n",
      " [15 62 62 47 62]\n",
      " [51 55 64  3 51]\n",
      " [ 7 21 73 39 18]]\n",
      "\n",
      "First 3 rows:\n",
      " [[52 93 15 72 61]\n",
      " [21 83 87 75 75]\n",
      " [88 24  3 22 53]]\n",
      "\n",
      "Mean of each column:\n",
      " [41.7 55.  53.6 43.8 56.9]\n",
      "\n",
      "Filter rows where the first column > 50:\n",
      " [[52 93 15 72 61]\n",
      " [88 24  3 22 53]\n",
      " [64 60 21 33 76]\n",
      " [58 22 89 49 91]\n",
      " [59 42 92 60 80]\n",
      " [51 55 64  3 51]]\n"
     ]
    }
   ],
   "source": [
    "# Import NumPy\n",
    "import numpy as np\n",
    "\n",
    "# Create a synthetic dataset\n",
    "np.random.seed(42)  # For reproducibility\n",
    "data = np.random.randint(1, 100, size=(10, 5))  # 10 rows, 5 columns\n",
    "print(\"Synthetic Dataset:\\n\", data)\n",
    "# Basic operations\n",
    "print(\"\\nFirst 3 rows:\\n\", data[:3])  # Slicing\n",
    "print(\"\\nMean of each column:\\n\", np.mean(data, axis=0))  # Column-wise mean\n",
    "print(\"\\nFilter rows where the first column > 50:\\n\", data[data[:, 0] > 50])  # Filtering\n"
   ]
  },
  {
   "cell_type": "code",
   "execution_count": null,
   "metadata": {},
   "outputs": [
    {
     "name": "stdout",
     "output_type": "stream",
     "text": [
      "123 456\n"
     ]
    }
   ],
   "source": [
    "a = input()\n",
    "b = ''\n",
    "l = []\n",
    "i = 0\n",
    "while i<len(a):\n",
    "    if a[i].isnumeric():\n",
    "        while  i<len(a) and a[i].isnumeric():\n",
    "            b+=a[i]\n",
    "            i+=1\n",
    "        l.append(int(b))\n",
    "        b = ''\n",
    "    i+=1\n",
    "print(*l)\n"
   ]
  },
  {
   "cell_type": "code",
   "execution_count": 1,
   "metadata": {},
   "outputs": [
    {
     "name": "stdout",
     "output_type": "stream",
     "text": [
      "0\n"
     ]
    }
   ],
   "source": [
    "n = input()\n",
    "a = 0\n",
    "for i in n:\n",
    "    if i.isdigit():\n",
    "        a = int(i)\n",
    "        break\n",
    "if not(a):\n",
    "    print(0)"
   ]
  },
  {
   "cell_type": "code",
   "execution_count": null,
   "metadata": {},
   "outputs": [
    {
     "name": "stdout",
     "output_type": "stream",
     "text": [
      "579\n"
     ]
    }
   ],
   "source": [
    "n = input()\n",
    "a = ''\n",
    "l = []\n",
    "i = 0\n",
    "while i<len(n):\n",
    "    if n[i].isnumeric():\n",
    "        while i<len(n) and n[i].isnumeric():\n",
    "            a+=n[i]\n",
    "            i+=1\n",
    "        l.append(int(a))\n",
    "        a = ''\n",
    "    i+=1\n",
    "print(sum(l))"
   ]
  },
  {
   "cell_type": "code",
   "execution_count": 1,
   "metadata": {},
   "outputs": [
    {
     "name": "stdout",
     "output_type": "stream",
     "text": [
      "hI wElcOmE tO thE shOw !yE7 (nI)\n"
     ]
    }
   ],
   "source": [
    "n = int(input())\n",
    "for i in range(n):\n",
    "    a = input()\n",
    "    a = a.lower()\n",
    "    b = ''\n",
    "    for i in a:\n",
    "        if i in \"aeiou\":\n",
    "            b+=i.upper()\n",
    "        else:\n",
    "            b+=i\n",
    "    print(b)"
   ]
  },
  {
   "cell_type": "code",
   "execution_count": 1,
   "metadata": {},
   "outputs": [
    {
     "name": "stdout",
     "output_type": "stream",
     "text": [
      "ss\n"
     ]
    }
   ],
   "source": [
    "def check(s):\n",
    "    le = len(s)\n",
    "    l,r = 0, le\n",
    "    m = \"\"\n",
    "    i = 0\n",
    "    while l<=r:\n",
    "        a = s[l+1:r]\n",
    "        b = s[l:r]\n",
    "        c = s[l:r-1]\n",
    "        if b== b[::-1] and len(b)>len(m):\n",
    "            m = b\n",
    "        elif a==a[::-1] and len(a)>len(m):\n",
    "            m = a\n",
    "        elif c== c[::-1] and len(c)>len(m):\n",
    "            m = c\n",
    "        l+=1\n",
    "        r-=1\n",
    "    if m:\n",
    "        return m\n",
    "    else:\n",
    "        return s[0]\n",
    "s = \"ssd\"\n",
    "print(check(s))"
   ]
  },
  {
   "cell_type": "code",
   "execution_count": null,
   "metadata": {},
   "outputs": [],
   "source": [
    "from collections import Counter\n",
    "s = 'abccczyx'\n",
    "c = Counter(s)\n",
    "for i in c:\n",
    "    if c[i]==1:\n",
    "        print(i)\n",
    "        break"
   ]
  },
  {
   "cell_type": "code",
   "execution_count": 2,
   "metadata": {},
   "outputs": [
    {
     "data": {
      "text/plain": [
       "[1, 2, 4]"
      ]
     },
     "execution_count": 2,
     "metadata": {},
     "output_type": "execute_result"
    }
   ],
   "source": [
    "m = [1, 2, 3, 4]\n",
    "del m[2]\n",
    "m"
   ]
  },
  {
   "cell_type": "code",
   "execution_count": null,
   "metadata": {},
   "outputs": [],
   "source": [
    "def count_trailing_zeros(n):\n",
    "    \"\"\"Count the number of trailing zeros in n!\"\"\"\n",
    "    count = 0\n",
    "    i = 5\n",
    "    while n // i > 0:\n",
    "        count += n // i\n",
    "        i *= 5\n",
    "    return count\n",
    "\n",
    "def find_n_with_m_zeros(m):\n",
    "    \"\"\"Find all values of n such that n! ends with exactly m trailing zeros.\"\"\"\n",
    "    # Binary search to find the first n where count_trailing_zeros(n) >= m\n",
    "    left, right = 0, 5 * m  # Upper bound estimate\n",
    "    while left < right:\n",
    "        mid = (left + right) // 2\n",
    "        if count_trailing_zeros(mid) < m:\n",
    "            left = mid + 1\n",
    "        else:\n",
    "            right = mid\n",
    "    \n",
    "    start = left\n",
    "    \n",
    "    # If no n exists with exactly m zeros\n",
    "    if count_trailing_zeros(start) > m:\n",
    "        return []\n",
    "    \n",
    "    # Find all consecutive n's that have exactly m zeros\n",
    "    result = []\n",
    "    n = start\n",
    "    while count_trailing_zeros(n) == m:\n",
    "        result.append(n)\n",
    "        n += 1\n",
    "    \n",
    "    return result\n",
    "\n",
    "def solve_test_case(m):\n",
    "    ns = find_n_with_m_zeros(m)\n",
    "    k = len(ns)\n",
    "    return [k] + ns\n",
    "\n",
    "def main():\n",
    "    t = int(input())\n",
    "    for _ in range(t):\n",
    "        m = int(input())\n",
    "        result = solve_test_case(m)\n",
    "        if result[0] == 0:\n",
    "            print(result[0])\n",
    "        else:\n",
    "            print(result[0])\n",
    "            print(*result[1:])\n",
    "\n",
    "main()"
   ]
  }
 ],
 "metadata": {
  "kernelspec": {
   "display_name": "Python 3",
   "language": "python",
   "name": "python3"
  },
  "language_info": {
   "codemirror_mode": {
    "name": "ipython",
    "version": 3
   },
   "file_extension": ".py",
   "mimetype": "text/x-python",
   "name": "python",
   "nbconvert_exporter": "python",
   "pygments_lexer": "ipython3",
   "version": "3.12.2"
  }
 },
 "nbformat": 4,
 "nbformat_minor": 2
}
