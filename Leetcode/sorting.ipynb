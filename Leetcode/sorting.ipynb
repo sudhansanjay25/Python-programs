{
 "cells": [
  {
   "cell_type": "code",
   "execution_count": 2,
   "metadata": {},
   "outputs": [
    {
     "name": "stdout",
     "output_type": "stream",
     "text": [
      "[-5, -3, -3, 1, 2, 2, 2, 3, 7]\n"
     ]
    }
   ],
   "source": [
    "#Bubble sorting\n",
    "a=[-5,3,2,1,-3,-3,7,2,2]\n",
    "def bsort(a):\n",
    "    n=len(a)\n",
    "    f=True\n",
    "    while f:\n",
    "        f=False\n",
    "        for i in range(1,n):\n",
    "            if a[i]<a[i-1]:\n",
    "                a[i],a[i-1]=a[i-1],a[i]\n",
    "                f=True\n",
    "    return a\n",
    "print(bsort(a))\n"
   ]
  },
  {
   "cell_type": "code",
   "execution_count": 5,
   "metadata": {},
   "outputs": [
    {
     "name": "stdout",
     "output_type": "stream",
     "text": [
      "[-5, -3, -3, 1, 2, 2, 2, 3, 7]\n"
     ]
    }
   ],
   "source": [
    "#Insertion sorting\n",
    "a=[-5,3,2,1,-3,-3,7,2,2]\n",
    "def insertionsort(a):\n",
    "    n=len(a)\n",
    "    for i in range(1,n):\n",
    "        for j in range(i,0,-1):\n",
    "            if a[j]<a[j-1]:\n",
    "                a[j],a[j-1]=a[j-1],a[j]\n",
    "            else:\n",
    "                break\n",
    "    return a\n",
    "print(insertionsort(a))"
   ]
  },
  {
   "cell_type": "code",
   "execution_count": 8,
   "metadata": {},
   "outputs": [
    {
     "name": "stdout",
     "output_type": "stream",
     "text": [
      "[-5, -3, -3, 1, 2, 2, 2, 3, 7]\n"
     ]
    }
   ],
   "source": [
    "#Selection sorting\n",
    "a=[-3,3,2,1,-5,-3,7,2,2]\n",
    "def selectionsort(a):\n",
    "    n=len(a)\n",
    "    for i in range(n):\n",
    "        index=i\n",
    "        for j in range(i+1,n):\n",
    "            if a[index]>a[j]:\n",
    "                index=j\n",
    "        if a[i]>a[index]:\n",
    "            a[i],a[index]=a[index],a[i]\n",
    "    return a\n",
    "print(selectionsort(a))\n"
   ]
  },
  {
   "cell_type": "code",
   "execution_count": 9,
   "metadata": {},
   "outputs": [
    {
     "name": "stdout",
     "output_type": "stream",
     "text": [
      "[-5, -3, -3, 1, 2, 2, 2, 3, 7]\n"
     ]
    }
   ],
   "source": [
    "#Merge Sort\n",
    "a=[-3,3,2,1,-5,-3,7,2,2] \n",
    "def mergesort(a):\n",
    "    if len(a)==1: \n",
    "        return a\n",
    "    n=len(a)\n",
    "    m=n//2\n",
    "    L=a[:m]\n",
    "    R=a[m:]\n",
    "    L=mergesort(L)\n",
    "    R=mergesort(R)\n",
    "    l,r=0,0\n",
    "    i=0\n",
    "    sorted_arr=[0]*n\n",
    "    while l<len(L) and r<len(R):\n",
    "        if L[l]<R[r]:\n",
    "            sorted_arr[i]=L[l]\n",
    "            l+=1\n",
    "        else:\n",
    "            sorted_arr[i]=R[r]\n",
    "            r+=1\n",
    "        i+=1\n",
    "    while l<len(L):\n",
    "        sorted_arr[i]=L[l]\n",
    "        l+=1\n",
    "        i+=1\n",
    "    while r<len(R):\n",
    "        sorted_arr[i]=R[r]\n",
    "        r+=1\n",
    "        i+=1\n",
    "    return sorted_arr\n",
    "print(mergesort(a))\n"
   ]
  },
  {
   "cell_type": "code",
   "execution_count": 1,
   "metadata": {},
   "outputs": [
    {
     "data": {
      "text/plain": [
       "[-5, -3, -3, 1, 2, 2, 2, 3, 7]"
      ]
     },
     "execution_count": 1,
     "metadata": {},
     "output_type": "execute_result"
    }
   ],
   "source": [
    "#Quick sorting\n",
    "a=[-3,3,2,1,-5,-3,7,2,2] \n",
    "def quicksort(a):\n",
    "    if len(a)<=1:\n",
    "        return a\n",
    "    p=a[-1]\n",
    "    l=[x for x in a[:-1] if x<=p]\n",
    "    r=[x for x in a[:-1] if x>p]\n",
    "    l=quicksort(l)\n",
    "    r=quicksort(r)\n",
    "    return l + [p] + r\n",
    "b = quicksort(a)\n",
    "b"
   ]
  },
  {
   "cell_type": "code",
   "execution_count": 1,
   "metadata": {},
   "outputs": [
    {
     "name": "stdout",
     "output_type": "stream",
     "text": [
      "[1, 2, 2, 2, 3, 3, 3, 5, 7]\n"
     ]
    }
   ],
   "source": [
    "#Counting sorting\n",
    "a=[3,3,2,1,5,3,7,2,2] \n",
    "def countingsort(arr):\n",
    "    maxx=arr[0]\n",
    "    for i in range(1,len(arr)):\n",
    "        if maxx<arr[i]:\n",
    "            maxx=arr[i]\n",
    "    count=[0]*(maxx+1)\n",
    "    for i in arr:\n",
    "        count[i]+=1\n",
    "    i=0\n",
    "    for x in range(maxx+1):\n",
    "        while count[x]>0:\n",
    "            arr[i]=x\n",
    "            i+=1\n",
    "            count[x]-=1\n",
    "    return arr\n",
    "print(countingsort(a))\n"
   ]
  },
  {
   "cell_type": "code",
   "execution_count": 3,
   "metadata": {},
   "outputs": [
    {
     "data": {
      "text/plain": [
       "[-5, -3, -3, 1, 2, 2, 2, 3, 7]"
      ]
     },
     "execution_count": 3,
     "metadata": {},
     "output_type": "execute_result"
    }
   ],
   "source": [
    "n=[-3,3,2,1,-5,-3,7,2,2]\n",
    "def bubblesort(n):\n",
    "  l = len(n)\n",
    "  for i in range(l-1):\n",
    "    for j in range(l-i-1):\n",
    "      if n[j]>n[j+1]:\n",
    "        n[j],n[j+1] = n[j+1],n[j]\n",
    "  return n\n",
    "bubblesort(n)\n",
    "n"
   ]
  },
  {
   "cell_type": "code",
   "execution_count": 2,
   "metadata": {},
   "outputs": [
    {
     "data": {
      "text/plain": [
       "['o', 'l', 'l', 'e', 'h']"
      ]
     },
     "execution_count": 2,
     "metadata": {},
     "output_type": "execute_result"
    }
   ],
   "source": [
    "l = [\"h\",\"e\",\"l\",\"l\",\"o\"]\n",
    "l = l[::-1]\n",
    "l"
   ]
  },
  {
   "cell_type": "code",
   "execution_count": null,
   "metadata": {},
   "outputs": [],
   "source": []
  }
 ],
 "metadata": {
  "kernelspec": {
   "display_name": "Python 3",
   "language": "python",
   "name": "python3"
  },
  "language_info": {
   "codemirror_mode": {
    "name": "ipython",
    "version": 3
   },
   "file_extension": ".py",
   "mimetype": "text/x-python",
   "name": "python",
   "nbconvert_exporter": "python",
   "pygments_lexer": "ipython3",
   "version": "3.12.2"
  }
 },
 "nbformat": 4,
 "nbformat_minor": 2
}
