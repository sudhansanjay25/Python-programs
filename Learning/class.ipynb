{
 "cells": [
  {
   "cell_type": "code",
   "execution_count": 1,
   "id": "4eb16517",
   "metadata": {},
   "outputs": [],
   "source": [
    "class sudhan:\n",
    "    def __init__(self, age):\n",
    "        self.age = age\n"
   ]
  },
  {
   "cell_type": "code",
   "execution_count": 2,
   "id": "fd7f5498",
   "metadata": {},
   "outputs": [
    {
     "name": "stdout",
     "output_type": "stream",
     "text": [
      "20\n"
     ]
    }
   ],
   "source": [
    "ob = sudhan(20)\n",
    "print(ob.age)"
   ]
  },
  {
   "cell_type": "code",
   "execution_count": null,
   "id": "080872c6",
   "metadata": {},
   "outputs": [],
   "source": []
  }
 ],
 "metadata": {
  "kernelspec": {
   "display_name": "Python 3",
   "language": "python",
   "name": "python3"
  },
  "language_info": {
   "codemirror_mode": {
    "name": "ipython",
    "version": 3
   },
   "file_extension": ".py",
   "mimetype": "text/x-python",
   "name": "python",
   "nbconvert_exporter": "python",
   "pygments_lexer": "ipython3",
   "version": "3.12.2"
  }
 },
 "nbformat": 4,
 "nbformat_minor": 5
}
