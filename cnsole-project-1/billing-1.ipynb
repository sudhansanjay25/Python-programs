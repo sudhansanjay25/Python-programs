{
 "cells": [
  {
   "cell_type": "code",
   "execution_count": null,
   "id": "079b06d7",
   "metadata": {},
   "outputs": [],
   "source": [
    "class choose_dress:\n",
    "    def collection(self):\n",
    "        self.gender = input(\"Enter 'M' for Male or 'F' for Female:\" )\n",
    "\n",
    "        if self.gender == 'M':\n",
    "            self.choose = None # db need to connect\n",
    "\n",
    "            self.size = input(\"Enter 'S' for Small, 'M' for Medium, 'L' for Large:\" )\n",
    "\n",
    "            print(\"Shirt collection\") # db need to connect\n",
    "\n",
    "        else:\n",
    "            self.choose = None # db need to connect\n",
    "\n",
    "            if self.choose != 'Saree':\n",
    "                print(\"Saree Colection\") # db need to connect\n",
    "\n",
    "            else:\n",
    "                self.size = input(\"Enter 'S' for Small, 'M' for Medium, 'L' for Large:\" )\n",
    "                \n",
    "                print(\"Dress collection\") # db need to connect\n",
    "\n",
    "\n"
   ]
  }
 ],
 "metadata": {
  "language_info": {
   "name": "python"
  }
 },
 "nbformat": 4,
 "nbformat_minor": 5
}
